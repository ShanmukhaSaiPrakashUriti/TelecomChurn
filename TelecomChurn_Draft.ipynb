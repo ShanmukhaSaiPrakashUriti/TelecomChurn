{
 "cells": [
  {
   "cell_type": "code",
   "execution_count": 1,
   "metadata": {
    "_cell_guid": "b1076dfc-b9ad-4769-8c92-a6c4dae69d19",
    "_uuid": "8f2839f25d086af736a60e9eeb907d3b93b6e0e5"
   },
   "outputs": [],
   "source": [
    "import numpy as np\n",
    "import pandas as pd\n",
    "\n",
    "pd.set_option(\"display.max_rows\", 300)\n",
    "\n",
    "import matplotlib.pyplot as plt\n",
    "import seaborn as sns\n"
   ]
  },
  {
   "cell_type": "code",
   "execution_count": 2,
   "metadata": {
    "_cell_guid": "79c7e3d0-c299-4dcb-8224-4455121ee9b0",
    "_uuid": "d629ff2d2480ee46fbb7e2d37f6b5fab8052498a"
   },
   "outputs": [],
   "source": [
    "telecom = pd.read_csv(\"./telecom_churn_data.csv\")"
   ]
  },
  {
   "cell_type": "code",
   "execution_count": 3,
   "metadata": {},
   "outputs": [
    {
     "data": {
      "text/plain": [
       "(99999, 226)"
      ]
     },
     "execution_count": 3,
     "metadata": {},
     "output_type": "execute_result"
    }
   ],
   "source": [
    "telecom.shape"
   ]
  },
  {
   "cell_type": "code",
   "execution_count": 4,
   "metadata": {},
   "outputs": [
    {
     "name": "stdout",
     "output_type": "stream",
     "text": [
      "<class 'pandas.core.frame.DataFrame'>\n",
      "RangeIndex: 99999 entries, 0 to 99998\n",
      "Data columns (total 226 columns):\n",
      " #   Column                    Non-Null Count  Dtype  \n",
      "---  ------                    --------------  -----  \n",
      " 0   mobile_number             99999 non-null  int64  \n",
      " 1   circle_id                 99999 non-null  int64  \n",
      " 2   loc_og_t2o_mou            98981 non-null  float64\n",
      " 3   std_og_t2o_mou            98981 non-null  float64\n",
      " 4   loc_ic_t2o_mou            98981 non-null  float64\n",
      " 5   last_date_of_month_6      99999 non-null  object \n",
      " 6   last_date_of_month_7      99398 non-null  object \n",
      " 7   last_date_of_month_8      98899 non-null  object \n",
      " 8   last_date_of_month_9      98340 non-null  object \n",
      " 9   arpu_6                    99999 non-null  float64\n",
      " 10  arpu_7                    99999 non-null  float64\n",
      " 11  arpu_8                    99999 non-null  float64\n",
      " 12  arpu_9                    99999 non-null  float64\n",
      " 13  onnet_mou_6               96062 non-null  float64\n",
      " 14  onnet_mou_7               96140 non-null  float64\n",
      " 15  onnet_mou_8               94621 non-null  float64\n",
      " 16  onnet_mou_9               92254 non-null  float64\n",
      " 17  offnet_mou_6              96062 non-null  float64\n",
      " 18  offnet_mou_7              96140 non-null  float64\n",
      " 19  offnet_mou_8              94621 non-null  float64\n",
      " 20  offnet_mou_9              92254 non-null  float64\n",
      " 21  roam_ic_mou_6             96062 non-null  float64\n",
      " 22  roam_ic_mou_7             96140 non-null  float64\n",
      " 23  roam_ic_mou_8             94621 non-null  float64\n",
      " 24  roam_ic_mou_9             92254 non-null  float64\n",
      " 25  roam_og_mou_6             96062 non-null  float64\n",
      " 26  roam_og_mou_7             96140 non-null  float64\n",
      " 27  roam_og_mou_8             94621 non-null  float64\n",
      " 28  roam_og_mou_9             92254 non-null  float64\n",
      " 29  loc_og_t2t_mou_6          96062 non-null  float64\n",
      " 30  loc_og_t2t_mou_7          96140 non-null  float64\n",
      " 31  loc_og_t2t_mou_8          94621 non-null  float64\n",
      " 32  loc_og_t2t_mou_9          92254 non-null  float64\n",
      " 33  loc_og_t2m_mou_6          96062 non-null  float64\n",
      " 34  loc_og_t2m_mou_7          96140 non-null  float64\n",
      " 35  loc_og_t2m_mou_8          94621 non-null  float64\n",
      " 36  loc_og_t2m_mou_9          92254 non-null  float64\n",
      " 37  loc_og_t2f_mou_6          96062 non-null  float64\n",
      " 38  loc_og_t2f_mou_7          96140 non-null  float64\n",
      " 39  loc_og_t2f_mou_8          94621 non-null  float64\n",
      " 40  loc_og_t2f_mou_9          92254 non-null  float64\n",
      " 41  loc_og_t2c_mou_6          96062 non-null  float64\n",
      " 42  loc_og_t2c_mou_7          96140 non-null  float64\n",
      " 43  loc_og_t2c_mou_8          94621 non-null  float64\n",
      " 44  loc_og_t2c_mou_9          92254 non-null  float64\n",
      " 45  loc_og_mou_6              96062 non-null  float64\n",
      " 46  loc_og_mou_7              96140 non-null  float64\n",
      " 47  loc_og_mou_8              94621 non-null  float64\n",
      " 48  loc_og_mou_9              92254 non-null  float64\n",
      " 49  std_og_t2t_mou_6          96062 non-null  float64\n",
      " 50  std_og_t2t_mou_7          96140 non-null  float64\n",
      " 51  std_og_t2t_mou_8          94621 non-null  float64\n",
      " 52  std_og_t2t_mou_9          92254 non-null  float64\n",
      " 53  std_og_t2m_mou_6          96062 non-null  float64\n",
      " 54  std_og_t2m_mou_7          96140 non-null  float64\n",
      " 55  std_og_t2m_mou_8          94621 non-null  float64\n",
      " 56  std_og_t2m_mou_9          92254 non-null  float64\n",
      " 57  std_og_t2f_mou_6          96062 non-null  float64\n",
      " 58  std_og_t2f_mou_7          96140 non-null  float64\n",
      " 59  std_og_t2f_mou_8          94621 non-null  float64\n",
      " 60  std_og_t2f_mou_9          92254 non-null  float64\n",
      " 61  std_og_t2c_mou_6          96062 non-null  float64\n",
      " 62  std_og_t2c_mou_7          96140 non-null  float64\n",
      " 63  std_og_t2c_mou_8          94621 non-null  float64\n",
      " 64  std_og_t2c_mou_9          92254 non-null  float64\n",
      " 65  std_og_mou_6              96062 non-null  float64\n",
      " 66  std_og_mou_7              96140 non-null  float64\n",
      " 67  std_og_mou_8              94621 non-null  float64\n",
      " 68  std_og_mou_9              92254 non-null  float64\n",
      " 69  isd_og_mou_6              96062 non-null  float64\n",
      " 70  isd_og_mou_7              96140 non-null  float64\n",
      " 71  isd_og_mou_8              94621 non-null  float64\n",
      " 72  isd_og_mou_9              92254 non-null  float64\n",
      " 73  spl_og_mou_6              96062 non-null  float64\n",
      " 74  spl_og_mou_7              96140 non-null  float64\n",
      " 75  spl_og_mou_8              94621 non-null  float64\n",
      " 76  spl_og_mou_9              92254 non-null  float64\n",
      " 77  og_others_6               96062 non-null  float64\n",
      " 78  og_others_7               96140 non-null  float64\n",
      " 79  og_others_8               94621 non-null  float64\n",
      " 80  og_others_9               92254 non-null  float64\n",
      " 81  total_og_mou_6            99999 non-null  float64\n",
      " 82  total_og_mou_7            99999 non-null  float64\n",
      " 83  total_og_mou_8            99999 non-null  float64\n",
      " 84  total_og_mou_9            99999 non-null  float64\n",
      " 85  loc_ic_t2t_mou_6          96062 non-null  float64\n",
      " 86  loc_ic_t2t_mou_7          96140 non-null  float64\n",
      " 87  loc_ic_t2t_mou_8          94621 non-null  float64\n",
      " 88  loc_ic_t2t_mou_9          92254 non-null  float64\n",
      " 89  loc_ic_t2m_mou_6          96062 non-null  float64\n",
      " 90  loc_ic_t2m_mou_7          96140 non-null  float64\n",
      " 91  loc_ic_t2m_mou_8          94621 non-null  float64\n",
      " 92  loc_ic_t2m_mou_9          92254 non-null  float64\n",
      " 93  loc_ic_t2f_mou_6          96062 non-null  float64\n",
      " 94  loc_ic_t2f_mou_7          96140 non-null  float64\n",
      " 95  loc_ic_t2f_mou_8          94621 non-null  float64\n",
      " 96  loc_ic_t2f_mou_9          92254 non-null  float64\n",
      " 97  loc_ic_mou_6              96062 non-null  float64\n",
      " 98  loc_ic_mou_7              96140 non-null  float64\n",
      " 99  loc_ic_mou_8              94621 non-null  float64\n",
      " 100 loc_ic_mou_9              92254 non-null  float64\n",
      " 101 std_ic_t2t_mou_6          96062 non-null  float64\n",
      " 102 std_ic_t2t_mou_7          96140 non-null  float64\n",
      " 103 std_ic_t2t_mou_8          94621 non-null  float64\n",
      " 104 std_ic_t2t_mou_9          92254 non-null  float64\n",
      " 105 std_ic_t2m_mou_6          96062 non-null  float64\n",
      " 106 std_ic_t2m_mou_7          96140 non-null  float64\n",
      " 107 std_ic_t2m_mou_8          94621 non-null  float64\n",
      " 108 std_ic_t2m_mou_9          92254 non-null  float64\n",
      " 109 std_ic_t2f_mou_6          96062 non-null  float64\n",
      " 110 std_ic_t2f_mou_7          96140 non-null  float64\n",
      " 111 std_ic_t2f_mou_8          94621 non-null  float64\n",
      " 112 std_ic_t2f_mou_9          92254 non-null  float64\n",
      " 113 std_ic_t2o_mou_6          96062 non-null  float64\n",
      " 114 std_ic_t2o_mou_7          96140 non-null  float64\n",
      " 115 std_ic_t2o_mou_8          94621 non-null  float64\n",
      " 116 std_ic_t2o_mou_9          92254 non-null  float64\n",
      " 117 std_ic_mou_6              96062 non-null  float64\n",
      " 118 std_ic_mou_7              96140 non-null  float64\n",
      " 119 std_ic_mou_8              94621 non-null  float64\n",
      " 120 std_ic_mou_9              92254 non-null  float64\n",
      " 121 total_ic_mou_6            99999 non-null  float64\n",
      " 122 total_ic_mou_7            99999 non-null  float64\n",
      " 123 total_ic_mou_8            99999 non-null  float64\n",
      " 124 total_ic_mou_9            99999 non-null  float64\n",
      " 125 spl_ic_mou_6              96062 non-null  float64\n",
      " 126 spl_ic_mou_7              96140 non-null  float64\n",
      " 127 spl_ic_mou_8              94621 non-null  float64\n",
      " 128 spl_ic_mou_9              92254 non-null  float64\n",
      " 129 isd_ic_mou_6              96062 non-null  float64\n",
      " 130 isd_ic_mou_7              96140 non-null  float64\n",
      " 131 isd_ic_mou_8              94621 non-null  float64\n",
      " 132 isd_ic_mou_9              92254 non-null  float64\n",
      " 133 ic_others_6               96062 non-null  float64\n",
      " 134 ic_others_7               96140 non-null  float64\n",
      " 135 ic_others_8               94621 non-null  float64\n",
      " 136 ic_others_9               92254 non-null  float64\n",
      " 137 total_rech_num_6          99999 non-null  int64  \n",
      " 138 total_rech_num_7          99999 non-null  int64  \n",
      " 139 total_rech_num_8          99999 non-null  int64  \n",
      " 140 total_rech_num_9          99999 non-null  int64  \n",
      " 141 total_rech_amt_6          99999 non-null  int64  \n",
      " 142 total_rech_amt_7          99999 non-null  int64  \n",
      " 143 total_rech_amt_8          99999 non-null  int64  \n",
      " 144 total_rech_amt_9          99999 non-null  int64  \n",
      " 145 max_rech_amt_6            99999 non-null  int64  \n",
      " 146 max_rech_amt_7            99999 non-null  int64  \n",
      " 147 max_rech_amt_8            99999 non-null  int64  \n",
      " 148 max_rech_amt_9            99999 non-null  int64  \n",
      " 149 date_of_last_rech_6       98392 non-null  object \n",
      " 150 date_of_last_rech_7       98232 non-null  object \n",
      " 151 date_of_last_rech_8       96377 non-null  object \n",
      " 152 date_of_last_rech_9       95239 non-null  object \n",
      " 153 last_day_rch_amt_6        99999 non-null  int64  \n",
      " 154 last_day_rch_amt_7        99999 non-null  int64  \n",
      " 155 last_day_rch_amt_8        99999 non-null  int64  \n",
      " 156 last_day_rch_amt_9        99999 non-null  int64  \n",
      " 157 date_of_last_rech_data_6  25153 non-null  object \n",
      " 158 date_of_last_rech_data_7  25571 non-null  object \n",
      " 159 date_of_last_rech_data_8  26339 non-null  object \n",
      " 160 date_of_last_rech_data_9  25922 non-null  object \n",
      " 161 total_rech_data_6         25153 non-null  float64\n",
      " 162 total_rech_data_7         25571 non-null  float64\n",
      " 163 total_rech_data_8         26339 non-null  float64\n",
      " 164 total_rech_data_9         25922 non-null  float64\n",
      " 165 max_rech_data_6           25153 non-null  float64\n",
      " 166 max_rech_data_7           25571 non-null  float64\n",
      " 167 max_rech_data_8           26339 non-null  float64\n",
      " 168 max_rech_data_9           25922 non-null  float64\n",
      " 169 count_rech_2g_6           25153 non-null  float64\n",
      " 170 count_rech_2g_7           25571 non-null  float64\n",
      " 171 count_rech_2g_8           26339 non-null  float64\n",
      " 172 count_rech_2g_9           25922 non-null  float64\n",
      " 173 count_rech_3g_6           25153 non-null  float64\n",
      " 174 count_rech_3g_7           25571 non-null  float64\n",
      " 175 count_rech_3g_8           26339 non-null  float64\n",
      " 176 count_rech_3g_9           25922 non-null  float64\n",
      " 177 av_rech_amt_data_6        25153 non-null  float64\n",
      " 178 av_rech_amt_data_7        25571 non-null  float64\n",
      " 179 av_rech_amt_data_8        26339 non-null  float64\n",
      " 180 av_rech_amt_data_9        25922 non-null  float64\n",
      " 181 vol_2g_mb_6               99999 non-null  float64\n",
      " 182 vol_2g_mb_7               99999 non-null  float64\n",
      " 183 vol_2g_mb_8               99999 non-null  float64\n",
      " 184 vol_2g_mb_9               99999 non-null  float64\n",
      " 185 vol_3g_mb_6               99999 non-null  float64\n",
      " 186 vol_3g_mb_7               99999 non-null  float64\n",
      " 187 vol_3g_mb_8               99999 non-null  float64\n",
      " 188 vol_3g_mb_9               99999 non-null  float64\n",
      " 189 arpu_3g_6                 25153 non-null  float64\n",
      " 190 arpu_3g_7                 25571 non-null  float64\n",
      " 191 arpu_3g_8                 26339 non-null  float64\n",
      " 192 arpu_3g_9                 25922 non-null  float64\n",
      " 193 arpu_2g_6                 25153 non-null  float64\n",
      " 194 arpu_2g_7                 25571 non-null  float64\n",
      " 195 arpu_2g_8                 26339 non-null  float64\n",
      " 196 arpu_2g_9                 25922 non-null  float64\n",
      " 197 night_pck_user_6          25153 non-null  float64\n",
      " 198 night_pck_user_7          25571 non-null  float64\n",
      " 199 night_pck_user_8          26339 non-null  float64\n",
      " 200 night_pck_user_9          25922 non-null  float64\n",
      " 201 monthly_2g_6              99999 non-null  int64  \n",
      " 202 monthly_2g_7              99999 non-null  int64  \n",
      " 203 monthly_2g_8              99999 non-null  int64  \n",
      " 204 monthly_2g_9              99999 non-null  int64  \n",
      " 205 sachet_2g_6               99999 non-null  int64  \n",
      " 206 sachet_2g_7               99999 non-null  int64  \n",
      " 207 sachet_2g_8               99999 non-null  int64  \n",
      " 208 sachet_2g_9               99999 non-null  int64  \n",
      " 209 monthly_3g_6              99999 non-null  int64  \n",
      " 210 monthly_3g_7              99999 non-null  int64  \n",
      " 211 monthly_3g_8              99999 non-null  int64  \n",
      " 212 monthly_3g_9              99999 non-null  int64  \n",
      " 213 sachet_3g_6               99999 non-null  int64  \n",
      " 214 sachet_3g_7               99999 non-null  int64  \n",
      " 215 sachet_3g_8               99999 non-null  int64  \n",
      " 216 sachet_3g_9               99999 non-null  int64  \n",
      " 217 fb_user_6                 25153 non-null  float64\n",
      " 218 fb_user_7                 25571 non-null  float64\n",
      " 219 fb_user_8                 26339 non-null  float64\n",
      " 220 fb_user_9                 25922 non-null  float64\n",
      " 221 aon                       99999 non-null  int64  \n",
      " 222 aug_vbc_3g                99999 non-null  float64\n",
      " 223 jul_vbc_3g                99999 non-null  float64\n",
      " 224 jun_vbc_3g                99999 non-null  float64\n",
      " 225 sep_vbc_3g                99999 non-null  float64\n",
      "dtypes: float64(179), int64(35), object(12)\n",
      "memory usage: 172.4+ MB\n"
     ]
    }
   ],
   "source": [
    "telecom.info(max_cols=230)"
   ]
  },
  {
   "cell_type": "code",
   "execution_count": 5,
   "metadata": {},
   "outputs": [
    {
     "data": {
      "text/plain": [
       "loc_og_t2o_mou               1018\n",
       "std_og_t2o_mou               1018\n",
       "loc_ic_t2o_mou               1018\n",
       "last_date_of_month_7          601\n",
       "last_date_of_month_8         1100\n",
       "last_date_of_month_9         1659\n",
       "onnet_mou_6                  3937\n",
       "onnet_mou_7                  3859\n",
       "onnet_mou_8                  5378\n",
       "onnet_mou_9                  7745\n",
       "offnet_mou_6                 3937\n",
       "offnet_mou_7                 3859\n",
       "offnet_mou_8                 5378\n",
       "offnet_mou_9                 7745\n",
       "roam_ic_mou_6                3937\n",
       "roam_ic_mou_7                3859\n",
       "roam_ic_mou_8                5378\n",
       "roam_ic_mou_9                7745\n",
       "roam_og_mou_6                3937\n",
       "roam_og_mou_7                3859\n",
       "roam_og_mou_8                5378\n",
       "roam_og_mou_9                7745\n",
       "loc_og_t2t_mou_6             3937\n",
       "loc_og_t2t_mou_7             3859\n",
       "loc_og_t2t_mou_8             5378\n",
       "loc_og_t2t_mou_9             7745\n",
       "loc_og_t2m_mou_6             3937\n",
       "loc_og_t2m_mou_7             3859\n",
       "loc_og_t2m_mou_8             5378\n",
       "loc_og_t2m_mou_9             7745\n",
       "loc_og_t2f_mou_6             3937\n",
       "loc_og_t2f_mou_7             3859\n",
       "loc_og_t2f_mou_8             5378\n",
       "loc_og_t2f_mou_9             7745\n",
       "loc_og_t2c_mou_6             3937\n",
       "loc_og_t2c_mou_7             3859\n",
       "loc_og_t2c_mou_8             5378\n",
       "loc_og_t2c_mou_9             7745\n",
       "loc_og_mou_6                 3937\n",
       "loc_og_mou_7                 3859\n",
       "loc_og_mou_8                 5378\n",
       "loc_og_mou_9                 7745\n",
       "std_og_t2t_mou_6             3937\n",
       "std_og_t2t_mou_7             3859\n",
       "std_og_t2t_mou_8             5378\n",
       "std_og_t2t_mou_9             7745\n",
       "std_og_t2m_mou_6             3937\n",
       "std_og_t2m_mou_7             3859\n",
       "std_og_t2m_mou_8             5378\n",
       "std_og_t2m_mou_9             7745\n",
       "std_og_t2f_mou_6             3937\n",
       "std_og_t2f_mou_7             3859\n",
       "std_og_t2f_mou_8             5378\n",
       "std_og_t2f_mou_9             7745\n",
       "std_og_t2c_mou_6             3937\n",
       "std_og_t2c_mou_7             3859\n",
       "std_og_t2c_mou_8             5378\n",
       "std_og_t2c_mou_9             7745\n",
       "std_og_mou_6                 3937\n",
       "std_og_mou_7                 3859\n",
       "std_og_mou_8                 5378\n",
       "std_og_mou_9                 7745\n",
       "isd_og_mou_6                 3937\n",
       "isd_og_mou_7                 3859\n",
       "isd_og_mou_8                 5378\n",
       "isd_og_mou_9                 7745\n",
       "spl_og_mou_6                 3937\n",
       "spl_og_mou_7                 3859\n",
       "spl_og_mou_8                 5378\n",
       "spl_og_mou_9                 7745\n",
       "og_others_6                  3937\n",
       "og_others_7                  3859\n",
       "og_others_8                  5378\n",
       "og_others_9                  7745\n",
       "loc_ic_t2t_mou_6             3937\n",
       "loc_ic_t2t_mou_7             3859\n",
       "loc_ic_t2t_mou_8             5378\n",
       "loc_ic_t2t_mou_9             7745\n",
       "loc_ic_t2m_mou_6             3937\n",
       "loc_ic_t2m_mou_7             3859\n",
       "loc_ic_t2m_mou_8             5378\n",
       "loc_ic_t2m_mou_9             7745\n",
       "loc_ic_t2f_mou_6             3937\n",
       "loc_ic_t2f_mou_7             3859\n",
       "loc_ic_t2f_mou_8             5378\n",
       "loc_ic_t2f_mou_9             7745\n",
       "loc_ic_mou_6                 3937\n",
       "loc_ic_mou_7                 3859\n",
       "loc_ic_mou_8                 5378\n",
       "loc_ic_mou_9                 7745\n",
       "std_ic_t2t_mou_6             3937\n",
       "std_ic_t2t_mou_7             3859\n",
       "std_ic_t2t_mou_8             5378\n",
       "std_ic_t2t_mou_9             7745\n",
       "std_ic_t2m_mou_6             3937\n",
       "std_ic_t2m_mou_7             3859\n",
       "std_ic_t2m_mou_8             5378\n",
       "std_ic_t2m_mou_9             7745\n",
       "std_ic_t2f_mou_6             3937\n",
       "std_ic_t2f_mou_7             3859\n",
       "std_ic_t2f_mou_8             5378\n",
       "std_ic_t2f_mou_9             7745\n",
       "std_ic_t2o_mou_6             3937\n",
       "std_ic_t2o_mou_7             3859\n",
       "std_ic_t2o_mou_8             5378\n",
       "std_ic_t2o_mou_9             7745\n",
       "std_ic_mou_6                 3937\n",
       "std_ic_mou_7                 3859\n",
       "std_ic_mou_8                 5378\n",
       "std_ic_mou_9                 7745\n",
       "spl_ic_mou_6                 3937\n",
       "spl_ic_mou_7                 3859\n",
       "spl_ic_mou_8                 5378\n",
       "spl_ic_mou_9                 7745\n",
       "isd_ic_mou_6                 3937\n",
       "isd_ic_mou_7                 3859\n",
       "isd_ic_mou_8                 5378\n",
       "isd_ic_mou_9                 7745\n",
       "ic_others_6                  3937\n",
       "ic_others_7                  3859\n",
       "ic_others_8                  5378\n",
       "ic_others_9                  7745\n",
       "date_of_last_rech_6          1607\n",
       "date_of_last_rech_7          1767\n",
       "date_of_last_rech_8          3622\n",
       "date_of_last_rech_9          4760\n",
       "date_of_last_rech_data_6    74846\n",
       "date_of_last_rech_data_7    74428\n",
       "date_of_last_rech_data_8    73660\n",
       "date_of_last_rech_data_9    74077\n",
       "total_rech_data_6           74846\n",
       "total_rech_data_7           74428\n",
       "total_rech_data_8           73660\n",
       "total_rech_data_9           74077\n",
       "max_rech_data_6             74846\n",
       "max_rech_data_7             74428\n",
       "max_rech_data_8             73660\n",
       "max_rech_data_9             74077\n",
       "count_rech_2g_6             74846\n",
       "count_rech_2g_7             74428\n",
       "count_rech_2g_8             73660\n",
       "count_rech_2g_9             74077\n",
       "count_rech_3g_6             74846\n",
       "count_rech_3g_7             74428\n",
       "count_rech_3g_8             73660\n",
       "count_rech_3g_9             74077\n",
       "av_rech_amt_data_6          74846\n",
       "av_rech_amt_data_7          74428\n",
       "av_rech_amt_data_8          73660\n",
       "av_rech_amt_data_9          74077\n",
       "arpu_3g_6                   74846\n",
       "arpu_3g_7                   74428\n",
       "arpu_3g_8                   73660\n",
       "arpu_3g_9                   74077\n",
       "arpu_2g_6                   74846\n",
       "arpu_2g_7                   74428\n",
       "arpu_2g_8                   73660\n",
       "arpu_2g_9                   74077\n",
       "night_pck_user_6            74846\n",
       "night_pck_user_7            74428\n",
       "night_pck_user_8            73660\n",
       "night_pck_user_9            74077\n",
       "fb_user_6                   74846\n",
       "fb_user_7                   74428\n",
       "fb_user_8                   73660\n",
       "fb_user_9                   74077\n",
       "dtype: int64"
      ]
     },
     "execution_count": 5,
     "metadata": {},
     "output_type": "execute_result"
    }
   ],
   "source": [
    "telecom.isnull().sum()[telecom.isnull().sum() != 0]"
   ]
  },
  {
   "cell_type": "markdown",
   "metadata": {},
   "source": [
    "### Cleaning the data"
   ]
  },
  {
   "cell_type": "code",
   "execution_count": 6,
   "metadata": {},
   "outputs": [
    {
     "name": "stdout",
     "output_type": "stream",
     "text": [
      "Number of unique values in mobile_number is 99999\n",
      "Number of unique values in circle_id is 1\n"
     ]
    }
   ],
   "source": [
    "# Can remove the circle id and mobile_number\n",
    "\n",
    "print(\"Number of unique values in mobile_number is \" + str(telecom.mobile_number.nunique()))\n",
    "print(\"Number of unique values in circle_id is \" + str(telecom.circle_id.nunique()))"
   ]
  },
  {
   "cell_type": "markdown",
   "metadata": {},
   "source": [
    "<i> We have all unique values in mobile numebr and all same value for circle_id. Hence it does not add any information. <br>\n",
    "Hence we can remove those fields."
   ]
  },
  {
   "cell_type": "code",
   "execution_count": 7,
   "metadata": {},
   "outputs": [],
   "source": [
    "telecom.drop([\"circle_id\",\"mobile_number\"], axis=1, inplace=True)"
   ]
  },
  {
   "cell_type": "markdown",
   "metadata": {},
   "source": [
    "<i>There are various ways ot define a churn<br>\n",
    "Revenu-based churn - Customers who have not utilised any revenue-generating facilities over a given period of time.<br>\n",
    "Usage-based chrun - Customers who have not done any usage, either incoming or outgoing over a period of time.<br>\n",
    "    \n",
    "Here we are defining the churn as Usage-based churn and not Revenue-based churn. Thus the information like the number of days since the last revenue from the customer (which is the days from last recharge) can not be used to identify the churn. <br>\n",
    "We are more concerned on the usage of services for defining the churn.<br>\n",
    "<b>Hence we can remove the date fields.</b>"
   ]
  },
  {
   "cell_type": "code",
   "execution_count": 8,
   "metadata": {},
   "outputs": [],
   "source": [
    "# cols = [col for col in telecom.columns if \"date_of_last_rech_data\" in col or \"date_of_last_rech\" in col or 'last_date_of_month' in col]\n",
    "cols=   [\n",
    "        'last_date_of_month_6', 'date_of_last_rech_6', 'date_of_last_rech_data_6',\n",
    "        'last_date_of_month_7', 'date_of_last_rech_7', 'date_of_last_rech_data_7',\n",
    "        'last_date_of_month_8', 'date_of_last_rech_8', 'date_of_last_rech_data_8',\n",
    "        'last_date_of_month_9', 'date_of_last_rech_9', 'date_of_last_rech_data_9'\n",
    "        ]\n",
    "telecom.drop(cols, axis=1, inplace=True)\n",
    "     "
   ]
  },
  {
   "cell_type": "code",
   "execution_count": 9,
   "metadata": {},
   "outputs": [
    {
     "name": "stdout",
     "output_type": "stream",
     "text": [
      "0.0    98981\n",
      "Name: loc_og_t2o_mou, dtype: int64\n",
      "0.0    98981\n",
      "Name: std_og_t2o_mou, dtype: int64\n",
      "0.0    98981\n",
      "Name: loc_ic_t2o_mou, dtype: int64\n"
     ]
    }
   ],
   "source": [
    "print(telecom[\"loc_og_t2o_mou\"].value_counts())\n",
    "print(telecom[\"std_og_t2o_mou\"].value_counts())\n",
    "print(telecom[\"loc_ic_t2o_mou\"].value_counts())"
   ]
  },
  {
   "cell_type": "code",
   "execution_count": 10,
   "metadata": {},
   "outputs": [],
   "source": [
    "cols=   [\n",
    "        'loc_og_t2o_mou', 'std_og_t2o_mou', 'loc_ic_t2o_mou'\n",
    "        ]\n",
    "telecom.drop(cols, axis=1, inplace=True)\n",
    "     "
   ]
  },
  {
   "cell_type": "code",
   "execution_count": 11,
   "metadata": {},
   "outputs": [
    {
     "name": "stdout",
     "output_type": "stream",
     "text": [
      "0.0    96062\n",
      "Name: std_og_t2c_mou_6, dtype: int64\n",
      "0.0    96140\n",
      "Name: std_og_t2c_mou_7, dtype: int64\n",
      "0.0    94621\n",
      "Name: std_og_t2c_mou_8, dtype: int64\n",
      "0.0    92254\n",
      "Name: std_og_t2c_mou_9, dtype: int64\n",
      "0.0    96062\n",
      "Name: std_ic_t2o_mou_6, dtype: int64\n",
      "0.0    96140\n",
      "Name: std_ic_t2o_mou_7, dtype: int64\n",
      "0.0    94621\n",
      "Name: std_ic_t2o_mou_8, dtype: int64\n",
      "0.0    92254\n",
      "Name: std_ic_t2o_mou_9, dtype: int64\n"
     ]
    }
   ],
   "source": [
    "cols = [col for col in telecom.columns if \"std_ic_t2o_mou_\" in col or \"std_og_t2c_mou\" in col]\n",
    "for col in cols:\n",
    "#     print(col)\n",
    "    print(telecom[col].value_counts())"
   ]
  },
  {
   "cell_type": "code",
   "execution_count": 12,
   "metadata": {},
   "outputs": [],
   "source": [
    "cols = [col for col in telecom.columns if \"std_ic_t2o_mou_\" in col or \"std_og_t2c_mou\" in col]\n",
    "telecom.drop(cols, axis=1, inplace=True)"
   ]
  },
  {
   "cell_type": "markdown",
   "metadata": {},
   "source": [
    "<i>Cleaning the fields <b>av_rech_amt_data </b>and <b>total_rech_data</b> "
   ]
  },
  {
   "cell_type": "code",
   "execution_count": 13,
   "metadata": {},
   "outputs": [
    {
     "data": {
      "text/html": [
       "<div>\n",
       "<style scoped>\n",
       "    .dataframe tbody tr th:only-of-type {\n",
       "        vertical-align: middle;\n",
       "    }\n",
       "\n",
       "    .dataframe tbody tr th {\n",
       "        vertical-align: top;\n",
       "    }\n",
       "\n",
       "    .dataframe thead th {\n",
       "        text-align: right;\n",
       "    }\n",
       "</style>\n",
       "<table border=\"1\" class=\"dataframe\">\n",
       "  <thead>\n",
       "    <tr style=\"text-align: right;\">\n",
       "      <th></th>\n",
       "      <th>total_rech_data_6</th>\n",
       "      <th>total_rech_data_7</th>\n",
       "      <th>total_rech_data_8</th>\n",
       "      <th>total_rech_data_9</th>\n",
       "      <th>av_rech_amt_data_6</th>\n",
       "      <th>av_rech_amt_data_7</th>\n",
       "      <th>av_rech_amt_data_8</th>\n",
       "      <th>av_rech_amt_data_9</th>\n",
       "    </tr>\n",
       "  </thead>\n",
       "  <tbody>\n",
       "    <tr>\n",
       "      <th>0</th>\n",
       "      <td>1.0</td>\n",
       "      <td>1.0</td>\n",
       "      <td>1.0</td>\n",
       "      <td>NaN</td>\n",
       "      <td>252.0</td>\n",
       "      <td>252.0</td>\n",
       "      <td>252.0</td>\n",
       "      <td>NaN</td>\n",
       "    </tr>\n",
       "    <tr>\n",
       "      <th>1</th>\n",
       "      <td>NaN</td>\n",
       "      <td>1.0</td>\n",
       "      <td>2.0</td>\n",
       "      <td>NaN</td>\n",
       "      <td>NaN</td>\n",
       "      <td>154.0</td>\n",
       "      <td>50.0</td>\n",
       "      <td>NaN</td>\n",
       "    </tr>\n",
       "    <tr>\n",
       "      <th>2</th>\n",
       "      <td>NaN</td>\n",
       "      <td>NaN</td>\n",
       "      <td>NaN</td>\n",
       "      <td>1.0</td>\n",
       "      <td>NaN</td>\n",
       "      <td>NaN</td>\n",
       "      <td>NaN</td>\n",
       "      <td>46.0</td>\n",
       "    </tr>\n",
       "    <tr>\n",
       "      <th>3</th>\n",
       "      <td>NaN</td>\n",
       "      <td>NaN</td>\n",
       "      <td>NaN</td>\n",
       "      <td>NaN</td>\n",
       "      <td>NaN</td>\n",
       "      <td>NaN</td>\n",
       "      <td>NaN</td>\n",
       "      <td>NaN</td>\n",
       "    </tr>\n",
       "    <tr>\n",
       "      <th>4</th>\n",
       "      <td>1.0</td>\n",
       "      <td>NaN</td>\n",
       "      <td>NaN</td>\n",
       "      <td>NaN</td>\n",
       "      <td>56.0</td>\n",
       "      <td>NaN</td>\n",
       "      <td>NaN</td>\n",
       "      <td>NaN</td>\n",
       "    </tr>\n",
       "    <tr>\n",
       "      <th>...</th>\n",
       "      <td>...</td>\n",
       "      <td>...</td>\n",
       "      <td>...</td>\n",
       "      <td>...</td>\n",
       "      <td>...</td>\n",
       "      <td>...</td>\n",
       "      <td>...</td>\n",
       "      <td>...</td>\n",
       "    </tr>\n",
       "    <tr>\n",
       "      <th>99994</th>\n",
       "      <td>NaN</td>\n",
       "      <td>NaN</td>\n",
       "      <td>NaN</td>\n",
       "      <td>NaN</td>\n",
       "      <td>NaN</td>\n",
       "      <td>NaN</td>\n",
       "      <td>NaN</td>\n",
       "      <td>NaN</td>\n",
       "    </tr>\n",
       "    <tr>\n",
       "      <th>99995</th>\n",
       "      <td>NaN</td>\n",
       "      <td>NaN</td>\n",
       "      <td>NaN</td>\n",
       "      <td>NaN</td>\n",
       "      <td>NaN</td>\n",
       "      <td>NaN</td>\n",
       "      <td>NaN</td>\n",
       "      <td>NaN</td>\n",
       "    </tr>\n",
       "    <tr>\n",
       "      <th>99996</th>\n",
       "      <td>2.0</td>\n",
       "      <td>NaN</td>\n",
       "      <td>NaN</td>\n",
       "      <td>NaN</td>\n",
       "      <td>39.0</td>\n",
       "      <td>NaN</td>\n",
       "      <td>NaN</td>\n",
       "      <td>NaN</td>\n",
       "    </tr>\n",
       "    <tr>\n",
       "      <th>99997</th>\n",
       "      <td>3.0</td>\n",
       "      <td>2.0</td>\n",
       "      <td>4.0</td>\n",
       "      <td>4.0</td>\n",
       "      <td>583.0</td>\n",
       "      <td>358.0</td>\n",
       "      <td>716.0</td>\n",
       "      <td>862.0</td>\n",
       "    </tr>\n",
       "    <tr>\n",
       "      <th>99998</th>\n",
       "      <td>1.0</td>\n",
       "      <td>NaN</td>\n",
       "      <td>NaN</td>\n",
       "      <td>NaN</td>\n",
       "      <td>154.0</td>\n",
       "      <td>NaN</td>\n",
       "      <td>NaN</td>\n",
       "      <td>NaN</td>\n",
       "    </tr>\n",
       "  </tbody>\n",
       "</table>\n",
       "<p>99999 rows × 8 columns</p>\n",
       "</div>"
      ],
      "text/plain": [
       "       total_rech_data_6  total_rech_data_7  total_rech_data_8  \\\n",
       "0                    1.0                1.0                1.0   \n",
       "1                    NaN                1.0                2.0   \n",
       "2                    NaN                NaN                NaN   \n",
       "3                    NaN                NaN                NaN   \n",
       "4                    1.0                NaN                NaN   \n",
       "...                  ...                ...                ...   \n",
       "99994                NaN                NaN                NaN   \n",
       "99995                NaN                NaN                NaN   \n",
       "99996                2.0                NaN                NaN   \n",
       "99997                3.0                2.0                4.0   \n",
       "99998                1.0                NaN                NaN   \n",
       "\n",
       "       total_rech_data_9  av_rech_amt_data_6  av_rech_amt_data_7  \\\n",
       "0                    NaN               252.0               252.0   \n",
       "1                    NaN                 NaN               154.0   \n",
       "2                    1.0                 NaN                 NaN   \n",
       "3                    NaN                 NaN                 NaN   \n",
       "4                    NaN                56.0                 NaN   \n",
       "...                  ...                 ...                 ...   \n",
       "99994                NaN                 NaN                 NaN   \n",
       "99995                NaN                 NaN                 NaN   \n",
       "99996                NaN                39.0                 NaN   \n",
       "99997                4.0               583.0               358.0   \n",
       "99998                NaN               154.0                 NaN   \n",
       "\n",
       "       av_rech_amt_data_8  av_rech_amt_data_9  \n",
       "0                   252.0                 NaN  \n",
       "1                    50.0                 NaN  \n",
       "2                     NaN                46.0  \n",
       "3                     NaN                 NaN  \n",
       "4                     NaN                 NaN  \n",
       "...                   ...                 ...  \n",
       "99994                 NaN                 NaN  \n",
       "99995                 NaN                 NaN  \n",
       "99996                 NaN                 NaN  \n",
       "99997               716.0               862.0  \n",
       "99998                 NaN                 NaN  \n",
       "\n",
       "[99999 rows x 8 columns]"
      ]
     },
     "execution_count": 13,
     "metadata": {},
     "output_type": "execute_result"
    }
   ],
   "source": [
    "# Checking for the av_rech_amt_data and total_rech_data\n",
    "\n",
    "cols = [col for col in telecom.columns if \"av_rech_amt_data\" in col or \"total_rech_data\" in col]\n",
    "telecom.loc[:,cols]"
   ]
  },
  {
   "cell_type": "code",
   "execution_count": 14,
   "metadata": {},
   "outputs": [
    {
     "name": "stdout",
     "output_type": "stream",
     "text": [
      "For month 6\n",
      "(0, 201)\n",
      "(0, 201)\n",
      "For month 7\n",
      "(0, 201)\n",
      "(0, 201)\n",
      "For month 8\n",
      "(0, 201)\n",
      "(0, 201)\n",
      "For month 9\n",
      "(0, 201)\n",
      "(0, 201)\n"
     ]
    }
   ],
   "source": [
    "# Checking if we have any records in which the total_rech_data is null with non-zero av_rech_amt_data.\n",
    "# We expect av_rech_amt_data to be NaN if total_rech_data is NaN\n",
    "\n",
    "print(\"For month 6\")\n",
    "print(telecom[(telecom.total_rech_data_6.isnull()) & (~telecom.av_rech_amt_data_6.isnull())].shape)\n",
    "print(telecom[(~telecom.total_rech_data_6.isnull()) & (telecom.av_rech_amt_data_6.isnull())].shape)\n",
    "\n",
    "print(\"For month 7\")\n",
    "print(telecom[(telecom.total_rech_data_7.isnull()) & (~telecom.av_rech_amt_data_7.isnull())].shape)\n",
    "print(telecom[(~telecom.total_rech_data_7.isnull()) & (telecom.av_rech_amt_data_7.isnull())].shape)\n",
    "\n",
    "print(\"For month 8\")\n",
    "print(telecom[(telecom.total_rech_data_8.isnull()) & (~telecom.av_rech_amt_data_8.isnull())].shape)\n",
    "print(telecom[(~telecom.total_rech_data_8.isnull()) & (telecom.av_rech_amt_data_8.isnull())].shape)\n",
    "\n",
    "print(\"For month 9\")\n",
    "print(telecom[(telecom.total_rech_data_9.isnull()) & (~telecom.av_rech_amt_data_9.isnull())].shape)\n",
    "print(telecom[(~telecom.total_rech_data_9.isnull()) & (telecom.av_rech_amt_data_9.isnull())].shape)"
   ]
  },
  {
   "cell_type": "markdown",
   "metadata": {},
   "source": [
    "<i>Checking the total_rech_data and av_rech_amt_data are related. It looks like when the total_rech_data is NaN, \n",
    "av_rech_amt_data for the corresponding record is also Nan. This might be because the customer has not recharged for data in that particular month. Hence we can <b> impute the value for those missing values as 0.</b> <br>\n",
    "\n",
    "total_rech_data = 0 means that user has not recharged for data in that month. <br>\n",
    "av_rech_amt_data = 0 means that average recharge amount for data in that month is 0. </i>"
   ]
  },
  {
   "cell_type": "code",
   "execution_count": 15,
   "metadata": {},
   "outputs": [],
   "source": [
    "# Imputing the missing values with 0\n",
    "\n",
    "telecom[\"total_rech_data_6\"].fillna(0,inplace = True)\n",
    "telecom[\"total_rech_data_7\"].fillna(0,inplace = True)\n",
    "telecom[\"total_rech_data_8\"].fillna(0,inplace = True)\n",
    "telecom[\"total_rech_data_9\"].fillna(0,inplace = True)\n",
    "\n",
    "telecom[\"av_rech_amt_data_6\"].fillna(0,inplace = True)\n",
    "telecom[\"av_rech_amt_data_7\"].fillna(0,inplace = True)\n",
    "telecom[\"av_rech_amt_data_8\"].fillna(0,inplace = True)\n",
    "telecom[\"av_rech_amt_data_9\"].fillna(0,inplace = True)"
   ]
  },
  {
   "cell_type": "markdown",
   "metadata": {},
   "source": [
    "<i>Cleaning the fields <b>count_rech_2g </b>and <b>count_rech_3g</b> "
   ]
  },
  {
   "cell_type": "markdown",
   "metadata": {},
   "source": [
    "<i>We have NaN values for both count_rech_2g and count_rech_3g. We can assume the NaN values as 0, since the customer might not have done any recharge. <br>\n",
    "    \n",
    "Also after imputation, when we add both these columns for a particular month it matches with that of total_rech_data value. Thus validating our assumption. </i>"
   ]
  },
  {
   "cell_type": "code",
   "execution_count": 16,
   "metadata": {},
   "outputs": [],
   "source": [
    "telecom[\"count_rech_2g_6\"].fillna(0,inplace = True)\n",
    "telecom[\"count_rech_3g_6\"].fillna(0,inplace = True)\n",
    "\n",
    "telecom[\"count_rech_2g_7\"].fillna(0,inplace = True)\n",
    "telecom[\"count_rech_3g_7\"].fillna(0,inplace = True)\n",
    "\n",
    "telecom[\"count_rech_2g_8\"].fillna(0,inplace = True)\n",
    "telecom[\"count_rech_3g_8\"].fillna(0,inplace = True)\n",
    "\n",
    "telecom[\"count_rech_2g_9\"].fillna(0,inplace = True)\n",
    "telecom[\"count_rech_3g_9\"].fillna(0,inplace = True)"
   ]
  },
  {
   "cell_type": "code",
   "execution_count": 17,
   "metadata": {},
   "outputs": [
    {
     "name": "stdout",
     "output_type": "stream",
     "text": [
      "For month 6\n",
      "(0, 201)\n",
      "For month 7\n",
      "(0, 201)\n",
      "For month 8\n",
      "(0, 201)\n",
      "For month 9\n",
      "(0, 201)\n"
     ]
    }
   ],
   "source": [
    "# Checking if the sum of count_rech_2g and count_rech_3g matches with that of total_rech_data\n",
    "\n",
    "print(\"For month 6\")\n",
    "cols = [\"count_rech_2g_6\",\"count_rech_3g_6\",\"total_rech_data_6\"]\n",
    "print(telecom[telecom.count_rech_2g_6+ telecom.count_rech_3g_6 != telecom.total_rech_data_6].shape)\n",
    "\n",
    "print(\"For month 7\")\n",
    "cols = [\"count_rech_2g_7\",\"count_rech_3g_7\",\"total_rech_data_7\"]\n",
    "print(telecom[telecom.count_rech_2g_7+ telecom.count_rech_3g_7 != telecom.total_rech_data_7].shape)\n",
    "\n",
    "print(\"For month 8\")\n",
    "cols = [\"count_rech_2g_8\",\"count_rech_3g_8\",\"total_rech_data_8\"]\n",
    "print(telecom[telecom.count_rech_2g_8+ telecom.count_rech_3g_8 != telecom.total_rech_data_8].shape)\n",
    "\n",
    "print(\"For month 9\")\n",
    "cols = [\"count_rech_2g_9\",\"count_rech_3g_9\",\"total_rech_data_9\"]\n",
    "print(telecom[telecom.count_rech_2g_9+ telecom.count_rech_3g_9 != telecom.total_rech_data_9].shape)"
   ]
  },
  {
   "cell_type": "markdown",
   "metadata": {},
   "source": [
    "<i>Since we already have the total_rech_data, it might be redundant to have both count_rech_2g and count_rech_3g. <br>\n",
    "The total_rech_data might be co-related to that as well. This point should be noted in the bivariate analysis and the field could be removed after further analysis. </i>"
   ]
  },
  {
   "cell_type": "markdown",
   "metadata": {},
   "source": [
    "<i>Cleaning the fields <b>max_rech_data </b> </i>"
   ]
  },
  {
   "cell_type": "code",
   "execution_count": 18,
   "metadata": {},
   "outputs": [
    {
     "name": "stdout",
     "output_type": "stream",
     "text": [
      "For month 6\n",
      "(0, 201)\n",
      "(0, 201)\n",
      "For month 7\n",
      "(0, 201)\n",
      "(0, 201)\n",
      "For month 8\n",
      "(0, 201)\n",
      "(0, 201)\n",
      "For month 9\n",
      "(0, 201)\n",
      "(0, 201)\n"
     ]
    }
   ],
   "source": [
    "\n",
    "# Checking if we have any records in which the max_rech_data is null with non-zero av_rech_amt_data.\n",
    "# We expect max_rech_data to be NaN if av_rech_amt_data is 0\n",
    "\n",
    "print(\"For month 6\")\n",
    "print(telecom[(telecom.max_rech_data_6.isnull()) & ~(telecom.av_rech_amt_data_6 == 0)].shape)\n",
    "print(telecom[(~telecom.max_rech_data_6.isnull()) & (telecom.av_rech_amt_data_6 == 0)].shape)\n",
    "\n",
    "print(\"For month 7\")\n",
    "print(telecom[(telecom.max_rech_data_7.isnull()) & ~(telecom.av_rech_amt_data_7 == 0)].shape)\n",
    "print(telecom[(~telecom.max_rech_data_7.isnull()) & (telecom.av_rech_amt_data_7 == 0)].shape)\n",
    "\n",
    "print(\"For month 8\")\n",
    "print(telecom[(telecom.max_rech_data_8.isnull()) & ~(telecom.av_rech_amt_data_8 == 0)].shape)\n",
    "print(telecom[(~telecom.max_rech_data_8.isnull()) & (telecom.av_rech_amt_data_8 == 0)].shape)\n",
    "\n",
    "print(\"For month 9\")\n",
    "print(telecom[(telecom.max_rech_data_9.isnull()) & ~(telecom.av_rech_amt_data_9 == 0)].shape)\n",
    "print(telecom[(~telecom.max_rech_data_9.isnull()) & (telecom.av_rech_amt_data_9 == 0)].shape)"
   ]
  },
  {
   "cell_type": "code",
   "execution_count": 19,
   "metadata": {},
   "outputs": [],
   "source": [
    "# Imputing the missing values with 0\n",
    "\n",
    "telecom[\"max_rech_data_6\"].fillna(0,inplace = True)\n",
    "telecom[\"max_rech_data_7\"].fillna(0,inplace = True)\n",
    "telecom[\"max_rech_data_8\"].fillna(0,inplace = True)\n",
    "telecom[\"max_rech_data_9\"].fillna(0,inplace = True)"
   ]
  },
  {
   "cell_type": "code",
   "execution_count": 20,
   "metadata": {},
   "outputs": [
    {
     "name": "stdout",
     "output_type": "stream",
     "text": [
      "For month 6\n",
      "(0, 201)\n",
      "(74846, 201)\n",
      "For month 7\n",
      "(0, 201)\n",
      "(74428, 201)\n",
      "For month 8\n",
      "(0, 201)\n",
      "(73660, 201)\n",
      "For month 9\n",
      "(0, 201)\n",
      "(74077, 201)\n"
     ]
    }
   ],
   "source": [
    "\n",
    "# Checking if we have any records in which the max_rech_data is null with non-zero av_rech_amt_data.\n",
    "# We expect max_rech_data to be NaN if av_rech_amt_data is 0\n",
    "\n",
    "print(\"For month 6\")\n",
    "print(telecom[(telecom.max_rech_data_6.isnull()) & ~(telecom.av_rech_amt_data_6 == 0)].shape)\n",
    "print(telecom[(~telecom.max_rech_data_6.isnull()) & (telecom.av_rech_amt_data_6 == 0)].shape)\n",
    "\n",
    "print(\"For month 7\")\n",
    "print(telecom[(telecom.max_rech_data_7.isnull()) & ~(telecom.av_rech_amt_data_7 == 0)].shape)\n",
    "print(telecom[(~telecom.max_rech_data_7.isnull()) & (telecom.av_rech_amt_data_7 == 0)].shape)\n",
    "\n",
    "print(\"For month 8\")\n",
    "print(telecom[(telecom.max_rech_data_8.isnull()) & ~(telecom.av_rech_amt_data_8 == 0)].shape)\n",
    "print(telecom[(~telecom.max_rech_data_8.isnull()) & (telecom.av_rech_amt_data_8 == 0)].shape)\n",
    "\n",
    "print(\"For month 9\")\n",
    "print(telecom[(telecom.max_rech_data_9.isnull()) & ~(telecom.av_rech_amt_data_9 == 0)].shape)\n",
    "print(telecom[(~telecom.max_rech_data_9.isnull()) & (telecom.av_rech_amt_data_9 == 0)].shape)"
   ]
  },
  {
   "cell_type": "markdown",
   "metadata": {},
   "source": [
    "<i>Cleaning the fields <b>arpu_3g </b>and <b>arpu_2g</b> "
   ]
  },
  {
   "cell_type": "markdown",
   "metadata": {},
   "source": [
    "<i>For a record that has arpu_3g and arpu_2g as NaN value, the corresponding count_rech_2g and count_rech_3g are NaN.<br>\n",
    " Hence we can impute that as well with 0."
   ]
  },
  {
   "cell_type": "code",
   "execution_count": 21,
   "metadata": {},
   "outputs": [],
   "source": [
    "# Imputing the missing values with 0\n",
    "\n",
    "telecom[\"arpu_3g_6\"].fillna(0,inplace = True)\n",
    "telecom[\"arpu_3g_7\"].fillna(0,inplace = True)\n",
    "telecom[\"arpu_3g_8\"].fillna(0,inplace = True)\n",
    "telecom[\"arpu_3g_9\"].fillna(0,inplace = True)\n",
    "\n",
    "telecom[\"arpu_2g_6\"].fillna(0,inplace = True)\n",
    "telecom[\"arpu_2g_7\"].fillna(0,inplace = True)\n",
    "telecom[\"arpu_2g_8\"].fillna(0,inplace = True)\n",
    "telecom[\"arpu_2g_9\"].fillna(0,inplace = True)"
   ]
  },
  {
   "cell_type": "code",
   "execution_count": 22,
   "metadata": {},
   "outputs": [],
   "source": [
    "# Imputing the missing values with 0\n",
    "\n",
    "telecom[\"max_rech_data_6\"].fillna(0,inplace = True)\n",
    "telecom[\"max_rech_data_7\"].fillna(0,inplace = True)\n",
    "telecom[\"max_rech_data_8\"].fillna(0,inplace = True)\n",
    "telecom[\"max_rech_data_9\"].fillna(0,inplace = True)"
   ]
  },
  {
   "cell_type": "markdown",
   "metadata": {},
   "source": [
    "<i>Cleaning the fields <b>roam_ic_mou </b>and <b>roam_og_mou</b> "
   ]
  },
  {
   "cell_type": "code",
   "execution_count": 23,
   "metadata": {},
   "outputs": [
    {
     "name": "stdout",
     "output_type": "stream",
     "text": [
      "For month 6\n",
      "(0, 201)\n",
      "(0, 201)\n",
      "For month 7\n",
      "(0, 201)\n",
      "(0, 201)\n",
      "For month 8\n",
      "(0, 201)\n",
      "(0, 201)\n"
     ]
    }
   ],
   "source": [
    "# Checking if we have any records in which the incoming is NaN and outgoing is not NaN\n",
    "# We expect roam_ic_mou to be NaN if roam_og_mou is NaN\n",
    "\n",
    "\n",
    "print(\"For month 6\")\n",
    "print(telecom[(telecom.roam_ic_mou_6.isnull()) & (~telecom.roam_og_mou_6.isnull())].shape)\n",
    "print(telecom[(~telecom.roam_ic_mou_6.isnull()) & (telecom.roam_og_mou_6.isnull())].shape)\n",
    "\n",
    "print(\"For month 7\")\n",
    "print(telecom[(telecom.roam_ic_mou_7.isnull()) & (~telecom.roam_og_mou_7.isnull())].shape)\n",
    "print(telecom[(~telecom.roam_ic_mou_7.isnull()) & (telecom.roam_og_mou_7.isnull())].shape)\n",
    "\n",
    "print(\"For month 8\")\n",
    "print(telecom[(telecom.roam_ic_mou_8.isnull()) & (~telecom.roam_og_mou_8.isnull())].shape)\n",
    "print(telecom[(~telecom.roam_ic_mou_8.isnull()) & (telecom.roam_og_mou_8.isnull())].shape)"
   ]
  },
  {
   "cell_type": "markdown",
   "metadata": {},
   "source": [
    "<i>It looks like when the roam_ic_mou is NaN, roam_og_mou for the corresponding record is also Nan. This might be because the customer is not in roaming and hence both roaming incoming mou and outgoing mou is NaN.</b> <br>\n",
    "\n",
    "roam_ic_mou = 0 means that user does not have any incoming mou. <br>\n",
    "roam_og_mou = 0 means that user does not have any outgoing mou </i>"
   ]
  },
  {
   "cell_type": "code",
   "execution_count": 24,
   "metadata": {},
   "outputs": [],
   "source": [
    "# Imputing the missing values with 0\n",
    "\n",
    "telecom[\"roam_ic_mou_6\"].fillna(0,inplace = True)\n",
    "telecom[\"roam_ic_mou_7\"].fillna(0,inplace = True)\n",
    "telecom[\"roam_ic_mou_8\"].fillna(0,inplace = True)\n",
    "telecom[\"roam_ic_mou_9\"].fillna(0,inplace = True)\n",
    "\n",
    "telecom[\"roam_og_mou_6\"].fillna(0,inplace = True)\n",
    "telecom[\"roam_og_mou_7\"].fillna(0,inplace = True)\n",
    "telecom[\"roam_og_mou_8\"].fillna(0,inplace = True)\n",
    "telecom[\"roam_og_mou_9\"].fillna(0,inplace = True)"
   ]
  },
  {
   "cell_type": "markdown",
   "metadata": {},
   "source": [
    "<i>Cleaning the fields <b>fb_user</b> and <b>night_pck_user</b>"
   ]
  },
  {
   "cell_type": "markdown",
   "metadata": {},
   "source": [
    "<i>With similar logic, we are iputing the missing values in fb_user and night_pck_user as 0.<br>\n",
    " It is based on the assumption that value would be NaN if the customer has not availed that service."
   ]
  },
  {
   "cell_type": "code",
   "execution_count": 25,
   "metadata": {},
   "outputs": [
    {
     "data": {
      "text/plain": [
       "1.0    23000\n",
       "0.0     2153\n",
       "Name: fb_user_6, dtype: int64"
      ]
     },
     "execution_count": 25,
     "metadata": {},
     "output_type": "execute_result"
    }
   ],
   "source": [
    "telecom.fb_user_6.value_counts()"
   ]
  },
  {
   "cell_type": "code",
   "execution_count": 26,
   "metadata": {},
   "outputs": [],
   "source": [
    "# Imputing the missing values with 0\n",
    "\n",
    "telecom[\"fb_user_6\"].fillna(0,inplace = True)\n",
    "telecom[\"fb_user_7\"].fillna(0,inplace = True)\n",
    "telecom[\"fb_user_8\"].fillna(0,inplace = True)\n",
    "telecom[\"fb_user_9\"].fillna(0,inplace = True)"
   ]
  },
  {
   "cell_type": "code",
   "execution_count": 27,
   "metadata": {},
   "outputs": [
    {
     "data": {
      "text/plain": [
       "0.0    24522\n",
       "1.0      631\n",
       "Name: night_pck_user_6, dtype: int64"
      ]
     },
     "execution_count": 27,
     "metadata": {},
     "output_type": "execute_result"
    }
   ],
   "source": [
    "telecom.night_pck_user_6.value_counts()"
   ]
  },
  {
   "cell_type": "code",
   "execution_count": 28,
   "metadata": {},
   "outputs": [],
   "source": [
    "# Imputing the missing values with 0\n",
    "\n",
    "telecom[\"night_pck_user_6\"].fillna(0,inplace = True)\n",
    "telecom[\"night_pck_user_7\"].fillna(0,inplace = True)\n",
    "telecom[\"night_pck_user_8\"].fillna(0,inplace = True)\n",
    "telecom[\"night_pck_user_9\"].fillna(0,inplace = True)"
   ]
  },
  {
   "cell_type": "markdown",
   "metadata": {},
   "source": [
    "<i>Cleaning the <b>mou</b> fields.</i>"
   ]
  },
  {
   "cell_type": "code",
   "execution_count": 29,
   "metadata": {},
   "outputs": [
    {
     "data": {
      "text/plain": [
       "Series([], dtype: int64)"
      ]
     },
     "execution_count": 29,
     "metadata": {},
     "output_type": "execute_result"
    }
   ],
   "source": [
    "cols = [\n",
    "    \"onnet_mou_6\", \"offnet_mou_6\", \"loc_og_t2t_mou_6\", \"loc_og_t2m_mou_6\", \"loc_og_t2f_mou_6\", \"loc_og_t2c_mou_6\", \"loc_og_mou_6\", \"std_og_t2t_mou_6\", \"std_og_t2m_mou_6\",\n",
    "    \"std_og_t2f_mou_6\", \"std_og_mou_6\", \"isd_og_mou_6\", \"spl_og_mou_6\", \"og_others_6\", \"loc_ic_t2t_mou_6\", \"loc_ic_t2m_mou_6\", \"loc_ic_t2f_mou_6\",\n",
    "    \"loc_ic_mou_6\", \"std_ic_t2t_mou_6\", \"std_ic_t2m_mou_6\", \"std_ic_t2f_mou_6\", \"std_ic_mou_6\", \"spl_ic_mou_6\", \"isd_ic_mou_6\", \"ic_others_6\"\n",
    "]\n",
    "telecom[telecom.onnet_mou_6.isnull()].groupby(by=cols).size()"
   ]
  },
  {
   "cell_type": "code",
   "execution_count": 30,
   "metadata": {},
   "outputs": [],
   "source": [
    "telecom.loc[telecom.onnet_mou_6.isnull(),\"offnet_mou_6\"] = 0\n",
    "telecom.loc[telecom.onnet_mou_6.isnull(),\"loc_og_t2t_mou_6\"] = 0\n",
    "telecom.loc[telecom.onnet_mou_6.isnull(),\"loc_og_t2m_mou_6\"] = 0\n",
    "telecom.loc[telecom.onnet_mou_6.isnull(),\"loc_og_t2f_mou_6\"] = 0\n",
    "telecom.loc[telecom.onnet_mou_6.isnull(),\"loc_og_t2c_mou_6\"] = 0\n",
    "telecom.loc[telecom.onnet_mou_6.isnull(),\"loc_og_mou_6\"] = 0\n",
    "telecom.loc[telecom.onnet_mou_6.isnull(),\"std_og_t2t_mou_6\"] = 0\n",
    "telecom.loc[telecom.onnet_mou_6.isnull(),\"std_og_t2m_mou_6\"] = 0\n",
    "telecom.loc[telecom.onnet_mou_6.isnull(),\"std_og_t2f_mou_6\"] = 0\n",
    "# telecom.loc[telecom.onnet_mou_6.isnull(),\"std_og_t2c_mou_6\"] = 0\n",
    "telecom.loc[telecom.onnet_mou_6.isnull(),\"std_og_mou_6\"] = 0\n",
    "telecom.loc[telecom.onnet_mou_6.isnull(),\"isd_og_mou_6\"] = 0\n",
    "telecom.loc[telecom.onnet_mou_6.isnull(),\"spl_og_mou_6\"] = 0\n",
    "telecom.loc[telecom.onnet_mou_6.isnull(),\"og_others_6\"] = 0\n",
    "telecom.loc[telecom.onnet_mou_6.isnull(),\"loc_ic_t2t_mou_6\"] = 0\n",
    "telecom.loc[telecom.onnet_mou_6.isnull(),\"loc_ic_t2m_mou_6\"] = 0\n",
    "telecom.loc[telecom.onnet_mou_6.isnull(),\"loc_ic_t2f_mou_6\"] = 0\n",
    "telecom.loc[telecom.onnet_mou_6.isnull(),\"loc_ic_mou_6\"] = 0\n",
    "telecom.loc[telecom.onnet_mou_6.isnull(),\"std_ic_t2t_mou_6\"] = 0\n",
    "telecom.loc[telecom.onnet_mou_6.isnull(),\"std_ic_t2m_mou_6\"] = 0\n",
    "telecom.loc[telecom.onnet_mou_6.isnull(),\"std_ic_t2f_mou_6\"] = 0\n",
    "# telecom.loc[telecom.onnet_mou_6.isnull(),\"std_ic_t2o_mou_6\"] = 0\n",
    "telecom.loc[telecom.onnet_mou_6.isnull(),\"std_ic_mou_6\"] = 0\n",
    "telecom.loc[telecom.onnet_mou_6.isnull(),\"spl_ic_mou_6\"] = 0\n",
    "telecom.loc[telecom.onnet_mou_6.isnull(),\"isd_ic_mou_6\"] = 0\n",
    "telecom.loc[telecom.onnet_mou_6.isnull(),\"ic_others_6\"] = 0\n",
    "telecom.loc[telecom.onnet_mou_6.isnull(),\"onnet_mou_6\"] = 0"
   ]
  },
  {
   "cell_type": "code",
   "execution_count": 31,
   "metadata": {},
   "outputs": [
    {
     "data": {
      "text/plain": [
       "Series([], dtype: int64)"
      ]
     },
     "execution_count": 31,
     "metadata": {},
     "output_type": "execute_result"
    }
   ],
   "source": [
    "cols = [\n",
    "    \"onnet_mou_7\", \"offnet_mou_7\", \"loc_og_t2t_mou_7\", \"loc_og_t2m_mou_7\", \"loc_og_t2f_mou_7\", \"loc_og_t2c_mou_7\", \"loc_og_mou_7\", \"std_og_t2t_mou_7\", \"std_og_t2m_mou_7\",\n",
    "    \"std_og_t2f_mou_7\", \"std_og_mou_7\", \"isd_og_mou_7\", \"spl_og_mou_7\", \"og_others_7\", \"loc_ic_t2t_mou_7\", \"loc_ic_t2m_mou_7\", \"loc_ic_t2f_mou_7\",\n",
    "    \"loc_ic_mou_7\", \"std_ic_t2t_mou_7\", \"std_ic_t2m_mou_7\", \"std_ic_t2f_mou_7\", \"std_ic_mou_7\", \"spl_ic_mou_7\", \"isd_ic_mou_7\", \"ic_others_7\"\n",
    "]\n",
    "telecom[telecom.onnet_mou_7.isnull()].groupby(by=cols).size()"
   ]
  },
  {
   "cell_type": "code",
   "execution_count": 32,
   "metadata": {},
   "outputs": [],
   "source": [
    "telecom.loc[telecom.onnet_mou_7.isnull(),\"offnet_mou_7\"] = 0\n",
    "telecom.loc[telecom.onnet_mou_7.isnull(),\"loc_og_t2t_mou_7\"] = 0\n",
    "telecom.loc[telecom.onnet_mou_7.isnull(),\"loc_og_t2m_mou_7\"] = 0\n",
    "telecom.loc[telecom.onnet_mou_7.isnull(),\"loc_og_t2f_mou_7\"] = 0\n",
    "telecom.loc[telecom.onnet_mou_7.isnull(),\"loc_og_t2c_mou_7\"] = 0\n",
    "telecom.loc[telecom.onnet_mou_7.isnull(),\"loc_og_mou_7\"] = 0\n",
    "telecom.loc[telecom.onnet_mou_7.isnull(),\"std_og_t2t_mou_7\"] = 0\n",
    "telecom.loc[telecom.onnet_mou_7.isnull(),\"std_og_t2m_mou_7\"] = 0\n",
    "telecom.loc[telecom.onnet_mou_7.isnull(),\"std_og_t2f_mou_7\"] = 0\n",
    "# telecom.loc[telecom.onnet_mou_7.isnull(),\"std_og_t2c_mou_7\"] = 0\n",
    "telecom.loc[telecom.onnet_mou_7.isnull(),\"std_og_mou_7\"] = 0\n",
    "telecom.loc[telecom.onnet_mou_7.isnull(),\"isd_og_mou_7\"] = 0\n",
    "telecom.loc[telecom.onnet_mou_7.isnull(),\"spl_og_mou_7\"] = 0\n",
    "telecom.loc[telecom.onnet_mou_7.isnull(),\"og_others_7\"] = 0\n",
    "telecom.loc[telecom.onnet_mou_7.isnull(),\"loc_ic_t2t_mou_7\"] = 0\n",
    "telecom.loc[telecom.onnet_mou_7.isnull(),\"loc_ic_t2m_mou_7\"] = 0\n",
    "telecom.loc[telecom.onnet_mou_7.isnull(),\"loc_ic_t2f_mou_7\"] = 0\n",
    "telecom.loc[telecom.onnet_mou_7.isnull(),\"loc_ic_mou_7\"] = 0\n",
    "telecom.loc[telecom.onnet_mou_7.isnull(),\"std_ic_t2t_mou_7\"] = 0\n",
    "telecom.loc[telecom.onnet_mou_7.isnull(),\"std_ic_t2m_mou_7\"] = 0\n",
    "telecom.loc[telecom.onnet_mou_7.isnull(),\"std_ic_t2f_mou_7\"] = 0\n",
    "# telecom.loc[telecom.onnet_mou_7.isnull(),\"std_ic_t2o_mou_7\"] = 0\n",
    "telecom.loc[telecom.onnet_mou_7.isnull(),\"std_ic_mou_7\"] = 0\n",
    "telecom.loc[telecom.onnet_mou_7.isnull(),\"spl_ic_mou_7\"] = 0\n",
    "telecom.loc[telecom.onnet_mou_7.isnull(),\"isd_ic_mou_7\"] = 0\n",
    "telecom.loc[telecom.onnet_mou_7.isnull(),\"ic_others_7\"] = 0\n",
    "telecom.loc[telecom.onnet_mou_7.isnull(),\"onnet_mou_7\"] = 0.00"
   ]
  },
  {
   "cell_type": "code",
   "execution_count": 33,
   "metadata": {},
   "outputs": [
    {
     "data": {
      "text/plain": [
       "Series([], dtype: int64)"
      ]
     },
     "execution_count": 33,
     "metadata": {},
     "output_type": "execute_result"
    }
   ],
   "source": [
    "cols = [\n",
    "    \"onnet_mou_8\", \"offnet_mou_8\", \"loc_og_t2t_mou_8\", \"loc_og_t2m_mou_8\", \"loc_og_t2f_mou_8\", \"loc_og_t2c_mou_8\", \"loc_og_mou_8\", \"std_og_t2t_mou_8\", \"std_og_t2m_mou_8\",\n",
    "    \"std_og_t2f_mou_8\", \"std_og_mou_8\", \"isd_og_mou_8\", \"spl_og_mou_8\", \"og_others_8\", \"loc_ic_t2t_mou_8\", \"loc_ic_t2m_mou_8\", \"loc_ic_t2f_mou_8\",\n",
    "    \"loc_ic_mou_8\", \"std_ic_t2t_mou_8\", \"std_ic_t2m_mou_8\", \"std_ic_t2f_mou_8\", \"std_ic_mou_8\", \"spl_ic_mou_8\", \"isd_ic_mou_8\", \"ic_others_8\"\n",
    "]\n",
    "telecom[telecom.onnet_mou_8.isnull()].groupby(by=cols).size()"
   ]
  },
  {
   "cell_type": "code",
   "execution_count": 34,
   "metadata": {},
   "outputs": [],
   "source": [
    "telecom.loc[telecom.onnet_mou_8.isnull(),\"offnet_mou_8\"] = 0\n",
    "telecom.loc[telecom.onnet_mou_8.isnull(),\"loc_og_t2t_mou_8\"] = 0\n",
    "telecom.loc[telecom.onnet_mou_8.isnull(),\"loc_og_t2m_mou_8\"] = 0\n",
    "telecom.loc[telecom.onnet_mou_8.isnull(),\"loc_og_t2f_mou_8\"] = 0\n",
    "telecom.loc[telecom.onnet_mou_8.isnull(),\"loc_og_t2c_mou_8\"] = 0\n",
    "telecom.loc[telecom.onnet_mou_8.isnull(),\"loc_og_mou_8\"] = 0\n",
    "telecom.loc[telecom.onnet_mou_8.isnull(),\"std_og_t2t_mou_8\"] = 0\n",
    "telecom.loc[telecom.onnet_mou_8.isnull(),\"std_og_t2m_mou_8\"] = 0\n",
    "telecom.loc[telecom.onnet_mou_8.isnull(),\"std_og_t2f_mou_8\"] = 0\n",
    "# telecom.loc[telecom.onnet_mou_8.isnull(),\"std_og_t2c_mou_8\"] = 0\n",
    "telecom.loc[telecom.onnet_mou_8.isnull(),\"std_og_mou_8\"] = 0\n",
    "telecom.loc[telecom.onnet_mou_8.isnull(),\"isd_og_mou_8\"] = 0\n",
    "telecom.loc[telecom.onnet_mou_8.isnull(),\"spl_og_mou_8\"] = 0\n",
    "telecom.loc[telecom.onnet_mou_8.isnull(),\"og_others_8\"] = 0\n",
    "telecom.loc[telecom.onnet_mou_8.isnull(),\"loc_ic_t2t_mou_8\"] = 0\n",
    "telecom.loc[telecom.onnet_mou_8.isnull(),\"loc_ic_t2m_mou_8\"] = 0\n",
    "telecom.loc[telecom.onnet_mou_8.isnull(),\"loc_ic_t2f_mou_8\"] = 0\n",
    "telecom.loc[telecom.onnet_mou_8.isnull(),\"loc_ic_mou_8\"] = 0\n",
    "telecom.loc[telecom.onnet_mou_8.isnull(),\"std_ic_t2t_mou_8\"] = 0\n",
    "telecom.loc[telecom.onnet_mou_8.isnull(),\"std_ic_t2m_mou_8\"] = 0\n",
    "telecom.loc[telecom.onnet_mou_8.isnull(),\"std_ic_t2f_mou_8\"] = 0\n",
    "# telecom.loc[telecom.onnet_mou_8.isnull(),\"std_ic_t2o_mou_8\"] = 0\n",
    "telecom.loc[telecom.onnet_mou_8.isnull(),\"std_ic_mou_8\"] = 0\n",
    "telecom.loc[telecom.onnet_mou_8.isnull(),\"spl_ic_mou_8\"] = 0\n",
    "telecom.loc[telecom.onnet_mou_8.isnull(),\"isd_ic_mou_8\"] = 0\n",
    "telecom.loc[telecom.onnet_mou_8.isnull(),\"ic_others_8\"] = 0\n",
    "telecom.loc[telecom.onnet_mou_8.isnull(),\"onnet_mou_8\"] = 0"
   ]
  },
  {
   "cell_type": "code",
   "execution_count": 35,
   "metadata": {},
   "outputs": [
    {
     "data": {
      "text/plain": [
       "Series([], dtype: int64)"
      ]
     },
     "execution_count": 35,
     "metadata": {},
     "output_type": "execute_result"
    }
   ],
   "source": [
    "cols = [\n",
    "    \"onnet_mou_9\", \"offnet_mou_9\", \"loc_og_t2t_mou_9\", \"loc_og_t2m_mou_9\", \"loc_og_t2f_mou_9\", \"loc_og_t2c_mou_9\", \"loc_og_mou_9\", \"std_og_t2t_mou_9\", \"std_og_t2m_mou_9\",\n",
    "    \"std_og_t2f_mou_9\", \"std_og_mou_9\", \"isd_og_mou_9\", \"spl_og_mou_9\", \"og_others_9\", \"loc_ic_t2t_mou_9\", \"loc_ic_t2m_mou_9\", \"loc_ic_t2f_mou_9\",\n",
    "    \"loc_ic_mou_9\", \"std_ic_t2t_mou_9\", \"std_ic_t2m_mou_9\", \"std_ic_t2f_mou_9\", \"std_ic_mou_9\", \"spl_ic_mou_9\", \"isd_ic_mou_9\", \"ic_others_9\"\n",
    "]\n",
    "telecom[telecom.onnet_mou_9.isnull()].groupby(by=cols).size()"
   ]
  },
  {
   "cell_type": "code",
   "execution_count": 36,
   "metadata": {},
   "outputs": [],
   "source": [
    "telecom.loc[telecom.onnet_mou_9.isnull(),\"offnet_mou_9\"] = 0\n",
    "telecom.loc[telecom.onnet_mou_9.isnull(),\"loc_og_t2t_mou_9\"] = 0\n",
    "telecom.loc[telecom.onnet_mou_9.isnull(),\"loc_og_t2m_mou_9\"] = 0\n",
    "telecom.loc[telecom.onnet_mou_9.isnull(),\"loc_og_t2f_mou_9\"] = 0\n",
    "telecom.loc[telecom.onnet_mou_9.isnull(),\"loc_og_t2c_mou_9\"] = 0\n",
    "telecom.loc[telecom.onnet_mou_9.isnull(),\"loc_og_mou_9\"] = 0\n",
    "telecom.loc[telecom.onnet_mou_9.isnull(),\"std_og_t2t_mou_9\"] = 0\n",
    "telecom.loc[telecom.onnet_mou_9.isnull(),\"std_og_t2m_mou_9\"] = 0\n",
    "telecom.loc[telecom.onnet_mou_9.isnull(),\"std_og_t2f_mou_9\"] = 0\n",
    "# telecom.loc[telecom.onnet_mou_9.isnull(),\"std_og_t2c_mou_9\"] = 0\n",
    "telecom.loc[telecom.onnet_mou_9.isnull(),\"std_og_mou_9\"] = 0\n",
    "telecom.loc[telecom.onnet_mou_9.isnull(),\"isd_og_mou_9\"] = 0\n",
    "telecom.loc[telecom.onnet_mou_9.isnull(),\"spl_og_mou_9\"] = 0\n",
    "telecom.loc[telecom.onnet_mou_9.isnull(),\"og_others_9\"] = 0\n",
    "telecom.loc[telecom.onnet_mou_9.isnull(),\"loc_ic_t2t_mou_9\"] = 0\n",
    "telecom.loc[telecom.onnet_mou_9.isnull(),\"loc_ic_t2m_mou_9\"] = 0\n",
    "telecom.loc[telecom.onnet_mou_9.isnull(),\"loc_ic_t2f_mou_9\"] = 0\n",
    "telecom.loc[telecom.onnet_mou_9.isnull(),\"loc_ic_mou_9\"] = 0\n",
    "telecom.loc[telecom.onnet_mou_9.isnull(),\"std_ic_t2t_mou_9\"] = 0\n",
    "telecom.loc[telecom.onnet_mou_9.isnull(),\"std_ic_t2m_mou_9\"] = 0\n",
    "telecom.loc[telecom.onnet_mou_9.isnull(),\"std_ic_t2f_mou_9\"] = 0\n",
    "# telecom.loc[telecom.onnet_mou_9.isnull(),\"std_ic_t2o_mou_9\"] = 0\n",
    "telecom.loc[telecom.onnet_mou_9.isnull(),\"std_ic_mou_9\"] = 0\n",
    "telecom.loc[telecom.onnet_mou_9.isnull(),\"spl_ic_mou_9\"] = 0\n",
    "telecom.loc[telecom.onnet_mou_9.isnull(),\"isd_ic_mou_9\"] = 0\n",
    "telecom.loc[telecom.onnet_mou_9.isnull(),\"ic_others_9\"] = 0\n",
    "telecom.loc[telecom.onnet_mou_9.isnull(),\"onnet_mou_9\"] = 0"
   ]
  },
  {
   "cell_type": "code",
   "execution_count": 37,
   "metadata": {},
   "outputs": [
    {
     "data": {
      "text/plain": [
       "Series([], dtype: int64)"
      ]
     },
     "execution_count": 37,
     "metadata": {},
     "output_type": "execute_result"
    }
   ],
   "source": [
    "telecom.isnull().sum()[telecom.isnull().sum() != 0]"
   ]
  },
  {
   "cell_type": "markdown",
   "metadata": {},
   "source": [
    "<i>All the values have been imputed and there are no null values in the dataset. </i>"
   ]
  },
  {
   "cell_type": "markdown",
   "metadata": {},
   "source": [
    "### Finding the high value customers"
   ]
  },
  {
   "cell_type": "code",
   "execution_count": 38,
   "metadata": {},
   "outputs": [
    {
     "data": {
      "text/html": [
       "<div>\n",
       "<style scoped>\n",
       "    .dataframe tbody tr th:only-of-type {\n",
       "        vertical-align: middle;\n",
       "    }\n",
       "\n",
       "    .dataframe tbody tr th {\n",
       "        vertical-align: top;\n",
       "    }\n",
       "\n",
       "    .dataframe thead th {\n",
       "        text-align: right;\n",
       "    }\n",
       "</style>\n",
       "<table border=\"1\" class=\"dataframe\">\n",
       "  <thead>\n",
       "    <tr style=\"text-align: right;\">\n",
       "      <th></th>\n",
       "      <th>total_rech_data_6</th>\n",
       "      <th>av_rech_amt_data_6</th>\n",
       "      <th>total_rech_amt_data_6</th>\n",
       "      <th>total_rech_data_7</th>\n",
       "      <th>av_rech_amt_data_7</th>\n",
       "      <th>total_rech_amt_data_7</th>\n",
       "      <th>total_rech_data_8</th>\n",
       "      <th>av_rech_amt_data_8</th>\n",
       "      <th>total_rech_amt_data_8</th>\n",
       "      <th>total_rech_data_9</th>\n",
       "      <th>av_rech_amt_data_9</th>\n",
       "      <th>total_rech_amt_data_9</th>\n",
       "    </tr>\n",
       "  </thead>\n",
       "  <tbody>\n",
       "    <tr>\n",
       "      <th>0</th>\n",
       "      <td>1.0</td>\n",
       "      <td>252.0</td>\n",
       "      <td>252.0</td>\n",
       "      <td>1.0</td>\n",
       "      <td>252.0</td>\n",
       "      <td>252.0</td>\n",
       "      <td>1.0</td>\n",
       "      <td>252.0</td>\n",
       "      <td>252.0</td>\n",
       "      <td>0.0</td>\n",
       "      <td>0.0</td>\n",
       "      <td>0.0</td>\n",
       "    </tr>\n",
       "    <tr>\n",
       "      <th>1</th>\n",
       "      <td>0.0</td>\n",
       "      <td>0.0</td>\n",
       "      <td>0.0</td>\n",
       "      <td>1.0</td>\n",
       "      <td>154.0</td>\n",
       "      <td>154.0</td>\n",
       "      <td>2.0</td>\n",
       "      <td>50.0</td>\n",
       "      <td>100.0</td>\n",
       "      <td>0.0</td>\n",
       "      <td>0.0</td>\n",
       "      <td>0.0</td>\n",
       "    </tr>\n",
       "    <tr>\n",
       "      <th>2</th>\n",
       "      <td>0.0</td>\n",
       "      <td>0.0</td>\n",
       "      <td>0.0</td>\n",
       "      <td>0.0</td>\n",
       "      <td>0.0</td>\n",
       "      <td>0.0</td>\n",
       "      <td>0.0</td>\n",
       "      <td>0.0</td>\n",
       "      <td>0.0</td>\n",
       "      <td>1.0</td>\n",
       "      <td>46.0</td>\n",
       "      <td>46.0</td>\n",
       "    </tr>\n",
       "    <tr>\n",
       "      <th>3</th>\n",
       "      <td>0.0</td>\n",
       "      <td>0.0</td>\n",
       "      <td>0.0</td>\n",
       "      <td>0.0</td>\n",
       "      <td>0.0</td>\n",
       "      <td>0.0</td>\n",
       "      <td>0.0</td>\n",
       "      <td>0.0</td>\n",
       "      <td>0.0</td>\n",
       "      <td>0.0</td>\n",
       "      <td>0.0</td>\n",
       "      <td>0.0</td>\n",
       "    </tr>\n",
       "    <tr>\n",
       "      <th>4</th>\n",
       "      <td>1.0</td>\n",
       "      <td>56.0</td>\n",
       "      <td>56.0</td>\n",
       "      <td>0.0</td>\n",
       "      <td>0.0</td>\n",
       "      <td>0.0</td>\n",
       "      <td>0.0</td>\n",
       "      <td>0.0</td>\n",
       "      <td>0.0</td>\n",
       "      <td>0.0</td>\n",
       "      <td>0.0</td>\n",
       "      <td>0.0</td>\n",
       "    </tr>\n",
       "    <tr>\n",
       "      <th>...</th>\n",
       "      <td>...</td>\n",
       "      <td>...</td>\n",
       "      <td>...</td>\n",
       "      <td>...</td>\n",
       "      <td>...</td>\n",
       "      <td>...</td>\n",
       "      <td>...</td>\n",
       "      <td>...</td>\n",
       "      <td>...</td>\n",
       "      <td>...</td>\n",
       "      <td>...</td>\n",
       "      <td>...</td>\n",
       "    </tr>\n",
       "    <tr>\n",
       "      <th>99994</th>\n",
       "      <td>0.0</td>\n",
       "      <td>0.0</td>\n",
       "      <td>0.0</td>\n",
       "      <td>0.0</td>\n",
       "      <td>0.0</td>\n",
       "      <td>0.0</td>\n",
       "      <td>0.0</td>\n",
       "      <td>0.0</td>\n",
       "      <td>0.0</td>\n",
       "      <td>0.0</td>\n",
       "      <td>0.0</td>\n",
       "      <td>0.0</td>\n",
       "    </tr>\n",
       "    <tr>\n",
       "      <th>99995</th>\n",
       "      <td>0.0</td>\n",
       "      <td>0.0</td>\n",
       "      <td>0.0</td>\n",
       "      <td>0.0</td>\n",
       "      <td>0.0</td>\n",
       "      <td>0.0</td>\n",
       "      <td>0.0</td>\n",
       "      <td>0.0</td>\n",
       "      <td>0.0</td>\n",
       "      <td>0.0</td>\n",
       "      <td>0.0</td>\n",
       "      <td>0.0</td>\n",
       "    </tr>\n",
       "    <tr>\n",
       "      <th>99996</th>\n",
       "      <td>2.0</td>\n",
       "      <td>39.0</td>\n",
       "      <td>78.0</td>\n",
       "      <td>0.0</td>\n",
       "      <td>0.0</td>\n",
       "      <td>0.0</td>\n",
       "      <td>0.0</td>\n",
       "      <td>0.0</td>\n",
       "      <td>0.0</td>\n",
       "      <td>0.0</td>\n",
       "      <td>0.0</td>\n",
       "      <td>0.0</td>\n",
       "    </tr>\n",
       "    <tr>\n",
       "      <th>99997</th>\n",
       "      <td>3.0</td>\n",
       "      <td>583.0</td>\n",
       "      <td>1749.0</td>\n",
       "      <td>2.0</td>\n",
       "      <td>358.0</td>\n",
       "      <td>716.0</td>\n",
       "      <td>4.0</td>\n",
       "      <td>716.0</td>\n",
       "      <td>2864.0</td>\n",
       "      <td>4.0</td>\n",
       "      <td>862.0</td>\n",
       "      <td>3448.0</td>\n",
       "    </tr>\n",
       "    <tr>\n",
       "      <th>99998</th>\n",
       "      <td>1.0</td>\n",
       "      <td>154.0</td>\n",
       "      <td>154.0</td>\n",
       "      <td>0.0</td>\n",
       "      <td>0.0</td>\n",
       "      <td>0.0</td>\n",
       "      <td>0.0</td>\n",
       "      <td>0.0</td>\n",
       "      <td>0.0</td>\n",
       "      <td>0.0</td>\n",
       "      <td>0.0</td>\n",
       "      <td>0.0</td>\n",
       "    </tr>\n",
       "  </tbody>\n",
       "</table>\n",
       "<p>99999 rows × 12 columns</p>\n",
       "</div>"
      ],
      "text/plain": [
       "       total_rech_data_6  av_rech_amt_data_6  total_rech_amt_data_6  \\\n",
       "0                    1.0               252.0                  252.0   \n",
       "1                    0.0                 0.0                    0.0   \n",
       "2                    0.0                 0.0                    0.0   \n",
       "3                    0.0                 0.0                    0.0   \n",
       "4                    1.0                56.0                   56.0   \n",
       "...                  ...                 ...                    ...   \n",
       "99994                0.0                 0.0                    0.0   \n",
       "99995                0.0                 0.0                    0.0   \n",
       "99996                2.0                39.0                   78.0   \n",
       "99997                3.0               583.0                 1749.0   \n",
       "99998                1.0               154.0                  154.0   \n",
       "\n",
       "       total_rech_data_7  av_rech_amt_data_7  total_rech_amt_data_7  \\\n",
       "0                    1.0               252.0                  252.0   \n",
       "1                    1.0               154.0                  154.0   \n",
       "2                    0.0                 0.0                    0.0   \n",
       "3                    0.0                 0.0                    0.0   \n",
       "4                    0.0                 0.0                    0.0   \n",
       "...                  ...                 ...                    ...   \n",
       "99994                0.0                 0.0                    0.0   \n",
       "99995                0.0                 0.0                    0.0   \n",
       "99996                0.0                 0.0                    0.0   \n",
       "99997                2.0               358.0                  716.0   \n",
       "99998                0.0                 0.0                    0.0   \n",
       "\n",
       "       total_rech_data_8  av_rech_amt_data_8  total_rech_amt_data_8  \\\n",
       "0                    1.0               252.0                  252.0   \n",
       "1                    2.0                50.0                  100.0   \n",
       "2                    0.0                 0.0                    0.0   \n",
       "3                    0.0                 0.0                    0.0   \n",
       "4                    0.0                 0.0                    0.0   \n",
       "...                  ...                 ...                    ...   \n",
       "99994                0.0                 0.0                    0.0   \n",
       "99995                0.0                 0.0                    0.0   \n",
       "99996                0.0                 0.0                    0.0   \n",
       "99997                4.0               716.0                 2864.0   \n",
       "99998                0.0                 0.0                    0.0   \n",
       "\n",
       "       total_rech_data_9  av_rech_amt_data_9  total_rech_amt_data_9  \n",
       "0                    0.0                 0.0                    0.0  \n",
       "1                    0.0                 0.0                    0.0  \n",
       "2                    1.0                46.0                   46.0  \n",
       "3                    0.0                 0.0                    0.0  \n",
       "4                    0.0                 0.0                    0.0  \n",
       "...                  ...                 ...                    ...  \n",
       "99994                0.0                 0.0                    0.0  \n",
       "99995                0.0                 0.0                    0.0  \n",
       "99996                0.0                 0.0                    0.0  \n",
       "99997                4.0               862.0                 3448.0  \n",
       "99998                0.0                 0.0                    0.0  \n",
       "\n",
       "[99999 rows x 12 columns]"
      ]
     },
     "execution_count": 38,
     "metadata": {},
     "output_type": "execute_result"
    }
   ],
   "source": [
    "cols = [\n",
    "        \"total_rech_data_6\", \"av_rech_amt_data_6\", \"total_rech_amt_data_6\",\n",
    "        \"total_rech_data_7\", \"av_rech_amt_data_7\", \"total_rech_amt_data_7\",\n",
    "        \"total_rech_data_8\", \"av_rech_amt_data_8\", \"total_rech_amt_data_8\",\n",
    "        \"total_rech_data_9\", \"av_rech_amt_data_9\", \"total_rech_amt_data_9\",\n",
    "       ]\n",
    "\n",
    "telecom[\"total_rech_amt_data_6\"] = telecom[\"total_rech_data_6\"] * telecom[\"av_rech_amt_data_6\"]\n",
    "telecom[\"total_rech_amt_data_7\"] = telecom[\"total_rech_data_7\"] * telecom[\"av_rech_amt_data_7\"]\n",
    "telecom[\"total_rech_amt_data_8\"] = telecom[\"total_rech_data_8\"] * telecom[\"av_rech_amt_data_8\"]\n",
    "telecom[\"total_rech_amt_data_9\"] = telecom[\"total_rech_data_9\"] * telecom[\"av_rech_amt_data_9\"]\n",
    "telecom.loc[:,cols]"
   ]
  },
  {
   "cell_type": "code",
   "execution_count": 39,
   "metadata": {},
   "outputs": [],
   "source": [
    "telecom[\"avg_rech_amt\"] = (telecom.total_rech_amt_6 + telecom.total_rech_amt_data_6 + telecom.total_rech_amt_7 + telecom.total_rech_amt_data_7)/2"
   ]
  },
  {
   "cell_type": "code",
   "execution_count": 40,
   "metadata": {
    "scrolled": true
   },
   "outputs": [
    {
     "data": {
      "text/plain": [
       "count    99999.000000\n",
       "mean       485.328068\n",
       "std        869.423594\n",
       "min          0.000000\n",
       "25%        128.000000\n",
       "50%        275.000000\n",
       "75%        553.000000\n",
       "max      61236.000000\n",
       "Name: avg_rech_amt, dtype: float64"
      ]
     },
     "execution_count": 40,
     "metadata": {},
     "output_type": "execute_result"
    }
   ],
   "source": [
    "telecom[\"avg_rech_amt\"].describe()"
   ]
  },
  {
   "cell_type": "code",
   "execution_count": 41,
   "metadata": {},
   "outputs": [],
   "source": [
    "telecom_hv = telecom[telecom.avg_rech_amt >= telecom.avg_rech_amt.quantile(0.70)]"
   ]
  },
  {
   "cell_type": "code",
   "execution_count": 42,
   "metadata": {},
   "outputs": [
    {
     "data": {
      "text/plain": [
       "(30001, 206)"
      ]
     },
     "execution_count": 42,
     "metadata": {},
     "output_type": "execute_result"
    }
   ],
   "source": [
    "telecom_hv.shape"
   ]
  },
  {
   "cell_type": "code",
   "execution_count": 43,
   "metadata": {},
   "outputs": [],
   "source": [
    "### Adding the churned tag to the dataset"
   ]
  },
  {
   "cell_type": "code",
   "execution_count": 44,
   "metadata": {},
   "outputs": [
    {
     "name": "stderr",
     "output_type": "stream",
     "text": [
      "C:\\Users\\91967\\anaconda3\\lib\\site-packages\\pandas\\core\\indexing.py:1765: SettingWithCopyWarning: \n",
      "A value is trying to be set on a copy of a slice from a DataFrame.\n",
      "Try using .loc[row_indexer,col_indexer] = value instead\n",
      "\n",
      "See the caveats in the documentation: https://pandas.pydata.org/pandas-docs/stable/user_guide/indexing.html#returning-a-view-versus-a-copy\n",
      "  isetter(loc, value)\n"
     ]
    },
    {
     "data": {
      "text/plain": [
       "0    27560\n",
       "1     2441\n",
       "Name: churned, dtype: int64"
      ]
     },
     "execution_count": 44,
     "metadata": {},
     "output_type": "execute_result"
    }
   ],
   "source": [
    "telecom_hv.insert(len(telecom_hv.columns),\"churned\",0)\n",
    "telecom_hv.loc[(telecom_hv.total_ic_mou_9 == 0) & (telecom_hv.total_og_mou_9 == 0) & (telecom_hv.vol_2g_mb_9 == 0) & (telecom_hv.vol_3g_mb_9 == 0),\"churned\"] = 1\n",
    "telecom_hv[\"churned\"].value_counts()"
   ]
  },
  {
   "cell_type": "code",
   "execution_count": 45,
   "metadata": {},
   "outputs": [
    {
     "data": {
      "text/plain": [
       "(30001, 207)"
      ]
     },
     "execution_count": 45,
     "metadata": {},
     "output_type": "execute_result"
    }
   ],
   "source": [
    "telecom_hv.shape"
   ]
  },
  {
   "cell_type": "markdown",
   "metadata": {},
   "source": [
    "### Removing the fields corresponding to the month September (9)"
   ]
  },
  {
   "cell_type": "code",
   "execution_count": 46,
   "metadata": {},
   "outputs": [
    {
     "data": {
      "text/plain": [
       "(30001, 156)"
      ]
     },
     "execution_count": 46,
     "metadata": {},
     "output_type": "execute_result"
    }
   ],
   "source": [
    "cols = [col for col in telecom_hv.columns if \"_9\" not in col and \"sep\" not in col]\n",
    "telecom_hv[cols].shape"
   ]
  },
  {
   "cell_type": "code",
   "execution_count": 47,
   "metadata": {},
   "outputs": [
    {
     "data": {
      "text/plain": [
       "50"
      ]
     },
     "execution_count": 47,
     "metadata": {},
     "output_type": "execute_result"
    }
   ],
   "source": [
    "len([col for col in telecom_hv.columns if \"_9\" in col])"
   ]
  },
  {
   "cell_type": "code",
   "execution_count": 48,
   "metadata": {},
   "outputs": [],
   "source": [
    "telecom_hv = telecom_hv[cols]"
   ]
  },
  {
   "cell_type": "code",
   "execution_count": 49,
   "metadata": {},
   "outputs": [
    {
     "data": {
      "text/plain": [
       "(30001, 156)"
      ]
     },
     "execution_count": 49,
     "metadata": {},
     "output_type": "execute_result"
    }
   ],
   "source": [
    "telecom_hv.shape"
   ]
  },
  {
   "cell_type": "code",
   "execution_count": 50,
   "metadata": {},
   "outputs": [
    {
     "name": "stdout",
     "output_type": "stream",
     "text": [
      "<class 'pandas.core.frame.DataFrame'>\n",
      "Int64Index: 30001 entries, 0 to 99997\n",
      "Data columns (total 156 columns):\n",
      " #   Column                 Non-Null Count  Dtype  \n",
      "---  ------                 --------------  -----  \n",
      " 0   arpu_6                 30001 non-null  float64\n",
      " 1   arpu_7                 30001 non-null  float64\n",
      " 2   arpu_8                 30001 non-null  float64\n",
      " 3   onnet_mou_6            30001 non-null  float64\n",
      " 4   onnet_mou_7            30001 non-null  float64\n",
      " 5   onnet_mou_8            30001 non-null  float64\n",
      " 6   offnet_mou_6           30001 non-null  float64\n",
      " 7   offnet_mou_7           30001 non-null  float64\n",
      " 8   offnet_mou_8           30001 non-null  float64\n",
      " 9   roam_ic_mou_6          30001 non-null  float64\n",
      " 10  roam_ic_mou_7          30001 non-null  float64\n",
      " 11  roam_ic_mou_8          30001 non-null  float64\n",
      " 12  roam_og_mou_6          30001 non-null  float64\n",
      " 13  roam_og_mou_7          30001 non-null  float64\n",
      " 14  roam_og_mou_8          30001 non-null  float64\n",
      " 15  loc_og_t2t_mou_6       30001 non-null  float64\n",
      " 16  loc_og_t2t_mou_7       30001 non-null  float64\n",
      " 17  loc_og_t2t_mou_8       30001 non-null  float64\n",
      " 18  loc_og_t2m_mou_6       30001 non-null  float64\n",
      " 19  loc_og_t2m_mou_7       30001 non-null  float64\n",
      " 20  loc_og_t2m_mou_8       30001 non-null  float64\n",
      " 21  loc_og_t2f_mou_6       30001 non-null  float64\n",
      " 22  loc_og_t2f_mou_7       30001 non-null  float64\n",
      " 23  loc_og_t2f_mou_8       30001 non-null  float64\n",
      " 24  loc_og_t2c_mou_6       30001 non-null  float64\n",
      " 25  loc_og_t2c_mou_7       30001 non-null  float64\n",
      " 26  loc_og_t2c_mou_8       30001 non-null  float64\n",
      " 27  loc_og_mou_6           30001 non-null  float64\n",
      " 28  loc_og_mou_7           30001 non-null  float64\n",
      " 29  loc_og_mou_8           30001 non-null  float64\n",
      " 30  std_og_t2t_mou_6       30001 non-null  float64\n",
      " 31  std_og_t2t_mou_7       30001 non-null  float64\n",
      " 32  std_og_t2t_mou_8       30001 non-null  float64\n",
      " 33  std_og_t2m_mou_6       30001 non-null  float64\n",
      " 34  std_og_t2m_mou_7       30001 non-null  float64\n",
      " 35  std_og_t2m_mou_8       30001 non-null  float64\n",
      " 36  std_og_t2f_mou_6       30001 non-null  float64\n",
      " 37  std_og_t2f_mou_7       30001 non-null  float64\n",
      " 38  std_og_t2f_mou_8       30001 non-null  float64\n",
      " 39  std_og_mou_6           30001 non-null  float64\n",
      " 40  std_og_mou_7           30001 non-null  float64\n",
      " 41  std_og_mou_8           30001 non-null  float64\n",
      " 42  isd_og_mou_6           30001 non-null  float64\n",
      " 43  isd_og_mou_7           30001 non-null  float64\n",
      " 44  isd_og_mou_8           30001 non-null  float64\n",
      " 45  spl_og_mou_6           30001 non-null  float64\n",
      " 46  spl_og_mou_7           30001 non-null  float64\n",
      " 47  spl_og_mou_8           30001 non-null  float64\n",
      " 48  og_others_6            30001 non-null  float64\n",
      " 49  og_others_7            30001 non-null  float64\n",
      " 50  og_others_8            30001 non-null  float64\n",
      " 51  total_og_mou_6         30001 non-null  float64\n",
      " 52  total_og_mou_7         30001 non-null  float64\n",
      " 53  total_og_mou_8         30001 non-null  float64\n",
      " 54  loc_ic_t2t_mou_6       30001 non-null  float64\n",
      " 55  loc_ic_t2t_mou_7       30001 non-null  float64\n",
      " 56  loc_ic_t2t_mou_8       30001 non-null  float64\n",
      " 57  loc_ic_t2m_mou_6       30001 non-null  float64\n",
      " 58  loc_ic_t2m_mou_7       30001 non-null  float64\n",
      " 59  loc_ic_t2m_mou_8       30001 non-null  float64\n",
      " 60  loc_ic_t2f_mou_6       30001 non-null  float64\n",
      " 61  loc_ic_t2f_mou_7       30001 non-null  float64\n",
      " 62  loc_ic_t2f_mou_8       30001 non-null  float64\n",
      " 63  loc_ic_mou_6           30001 non-null  float64\n",
      " 64  loc_ic_mou_7           30001 non-null  float64\n",
      " 65  loc_ic_mou_8           30001 non-null  float64\n",
      " 66  std_ic_t2t_mou_6       30001 non-null  float64\n",
      " 67  std_ic_t2t_mou_7       30001 non-null  float64\n",
      " 68  std_ic_t2t_mou_8       30001 non-null  float64\n",
      " 69  std_ic_t2m_mou_6       30001 non-null  float64\n",
      " 70  std_ic_t2m_mou_7       30001 non-null  float64\n",
      " 71  std_ic_t2m_mou_8       30001 non-null  float64\n",
      " 72  std_ic_t2f_mou_6       30001 non-null  float64\n",
      " 73  std_ic_t2f_mou_7       30001 non-null  float64\n",
      " 74  std_ic_t2f_mou_8       30001 non-null  float64\n",
      " 75  std_ic_mou_6           30001 non-null  float64\n",
      " 76  std_ic_mou_7           30001 non-null  float64\n",
      " 77  std_ic_mou_8           30001 non-null  float64\n",
      " 78  total_ic_mou_6         30001 non-null  float64\n",
      " 79  total_ic_mou_7         30001 non-null  float64\n",
      " 80  total_ic_mou_8         30001 non-null  float64\n",
      " 81  spl_ic_mou_6           30001 non-null  float64\n",
      " 82  spl_ic_mou_7           30001 non-null  float64\n",
      " 83  spl_ic_mou_8           30001 non-null  float64\n",
      " 84  isd_ic_mou_6           30001 non-null  float64\n",
      " 85  isd_ic_mou_7           30001 non-null  float64\n",
      " 86  isd_ic_mou_8           30001 non-null  float64\n",
      " 87  ic_others_6            30001 non-null  float64\n",
      " 88  ic_others_7            30001 non-null  float64\n",
      " 89  ic_others_8            30001 non-null  float64\n",
      " 90  total_rech_num_6       30001 non-null  int64  \n",
      " 91  total_rech_num_7       30001 non-null  int64  \n",
      " 92  total_rech_num_8       30001 non-null  int64  \n",
      " 93  total_rech_amt_6       30001 non-null  int64  \n",
      " 94  total_rech_amt_7       30001 non-null  int64  \n",
      " 95  total_rech_amt_8       30001 non-null  int64  \n",
      " 96  max_rech_amt_6         30001 non-null  int64  \n",
      " 97  max_rech_amt_7         30001 non-null  int64  \n",
      " 98  max_rech_amt_8         30001 non-null  int64  \n",
      " 99  last_day_rch_amt_6     30001 non-null  int64  \n",
      " 100 last_day_rch_amt_7     30001 non-null  int64  \n",
      " 101 last_day_rch_amt_8     30001 non-null  int64  \n",
      " 102 total_rech_data_6      30001 non-null  float64\n",
      " 103 total_rech_data_7      30001 non-null  float64\n",
      " 104 total_rech_data_8      30001 non-null  float64\n",
      " 105 max_rech_data_6        30001 non-null  float64\n",
      " 106 max_rech_data_7        30001 non-null  float64\n",
      " 107 max_rech_data_8        30001 non-null  float64\n",
      " 108 count_rech_2g_6        30001 non-null  float64\n",
      " 109 count_rech_2g_7        30001 non-null  float64\n",
      " 110 count_rech_2g_8        30001 non-null  float64\n",
      " 111 count_rech_3g_6        30001 non-null  float64\n",
      " 112 count_rech_3g_7        30001 non-null  float64\n",
      " 113 count_rech_3g_8        30001 non-null  float64\n",
      " 114 av_rech_amt_data_6     30001 non-null  float64\n",
      " 115 av_rech_amt_data_7     30001 non-null  float64\n",
      " 116 av_rech_amt_data_8     30001 non-null  float64\n",
      " 117 vol_2g_mb_6            30001 non-null  float64\n",
      " 118 vol_2g_mb_7            30001 non-null  float64\n",
      " 119 vol_2g_mb_8            30001 non-null  float64\n",
      " 120 vol_3g_mb_6            30001 non-null  float64\n",
      " 121 vol_3g_mb_7            30001 non-null  float64\n",
      " 122 vol_3g_mb_8            30001 non-null  float64\n",
      " 123 arpu_3g_6              30001 non-null  float64\n",
      " 124 arpu_3g_7              30001 non-null  float64\n",
      " 125 arpu_3g_8              30001 non-null  float64\n",
      " 126 arpu_2g_6              30001 non-null  float64\n",
      " 127 arpu_2g_7              30001 non-null  float64\n",
      " 128 arpu_2g_8              30001 non-null  float64\n",
      " 129 night_pck_user_6       30001 non-null  float64\n",
      " 130 night_pck_user_7       30001 non-null  float64\n",
      " 131 night_pck_user_8       30001 non-null  float64\n",
      " 132 monthly_2g_6           30001 non-null  int64  \n",
      " 133 monthly_2g_7           30001 non-null  int64  \n",
      " 134 monthly_2g_8           30001 non-null  int64  \n",
      " 135 sachet_2g_6            30001 non-null  int64  \n",
      " 136 sachet_2g_7            30001 non-null  int64  \n",
      " 137 sachet_2g_8            30001 non-null  int64  \n",
      " 138 monthly_3g_6           30001 non-null  int64  \n",
      " 139 monthly_3g_7           30001 non-null  int64  \n",
      " 140 monthly_3g_8           30001 non-null  int64  \n",
      " 141 sachet_3g_6            30001 non-null  int64  \n",
      " 142 sachet_3g_7            30001 non-null  int64  \n",
      " 143 sachet_3g_8            30001 non-null  int64  \n",
      " 144 fb_user_6              30001 non-null  float64\n",
      " 145 fb_user_7              30001 non-null  float64\n",
      " 146 fb_user_8              30001 non-null  float64\n",
      " 147 aon                    30001 non-null  int64  \n",
      " 148 aug_vbc_3g             30001 non-null  float64\n",
      " 149 jul_vbc_3g             30001 non-null  float64\n",
      " 150 jun_vbc_3g             30001 non-null  float64\n",
      " 151 total_rech_amt_data_6  30001 non-null  float64\n",
      " 152 total_rech_amt_data_7  30001 non-null  float64\n",
      " 153 total_rech_amt_data_8  30001 non-null  float64\n",
      " 154 avg_rech_amt           30001 non-null  float64\n",
      " 155 churned                30001 non-null  int64  \n",
      "dtypes: float64(130), int64(26)\n",
      "memory usage: 35.9 MB\n"
     ]
    }
   ],
   "source": [
    "telecom_hv.info(max_cols=230)"
   ]
  },
  {
   "cell_type": "code",
   "execution_count": 51,
   "metadata": {},
   "outputs": [
    {
     "data": {
      "text/plain": [
       "0    27560\n",
       "1     2441\n",
       "Name: churned, dtype: int64"
      ]
     },
     "execution_count": 51,
     "metadata": {},
     "output_type": "execute_result"
    }
   ],
   "source": [
    "telecom_hv[\"churned\"].value_counts()"
   ]
  },
  {
   "cell_type": "code",
   "execution_count": 52,
   "metadata": {},
   "outputs": [
    {
     "data": {
      "text/plain": [
       "(30001, 156)"
      ]
     },
     "execution_count": 52,
     "metadata": {},
     "output_type": "execute_result"
    }
   ],
   "source": [
    "telecom_hv.shape"
   ]
  },
  {
   "cell_type": "markdown",
   "metadata": {},
   "source": [
    "### EDA"
   ]
  },
  {
   "cell_type": "code",
   "execution_count": 53,
   "metadata": {},
   "outputs": [
    {
     "data": {
      "text/plain": [
       "<matplotlib.axes._subplots.AxesSubplot at 0x19bbd067a48>"
      ]
     },
     "execution_count": 53,
     "metadata": {},
     "output_type": "execute_result"
    },
    {
     "data": {
      "image/png": "[encoded data removed]",
      "text/plain": [
       "<Figure size 1728x864 with 2 Axes>"
      ]
     },
     "metadata": {
      "needs_background": "light"
     },
     "output_type": "display_data"
    }
   ],
   "source": [
    "# heatmap\n",
    "\n",
    "cols = [\"count_rech_2g_6\",\"count_rech_3g_6\",\"total_rech_data_6\", \n",
    "        \"count_rech_2g_7\",\"count_rech_3g_7\",\"total_rech_data_7\",\n",
    "        \"count_rech_2g_8\",\"count_rech_3g_8\",\"total_rech_data_8\",\n",
    "        \"av_rech_amt_data_6\",\"av_rech_amt_data_7\",\"av_rech_amt_data_8\"]\n",
    "cor = telecom_hv.loc[:,cols].corr()\n",
    "mask = np.array(cor)\n",
    "mask[np.tril_indices_from(mask)] = False\n",
    "fig,ax= plt.subplots()\n",
    "fig.set_size_inches(24,12)\n",
    "sns.heatmap(cor, mask=mask,vmax=.8, square=True,annot=True)"
   ]
  },
  {
   "cell_type": "code",
   "execution_count": 54,
   "metadata": {},
   "outputs": [
    {
     "data": {
      "text/plain": [
       "(30001, 156)"
      ]
     },
     "execution_count": 54,
     "metadata": {},
     "output_type": "execute_result"
    }
   ],
   "source": [
    "telecom_hv.shape"
   ]
  },
  {
   "cell_type": "code",
   "execution_count": 55,
   "metadata": {},
   "outputs": [
    {
     "data": {
      "text/plain": [
       "(30001, 150)"
      ]
     },
     "execution_count": 55,
     "metadata": {},
     "output_type": "execute_result"
    }
   ],
   "source": [
    "cols = [col for col in telecom_hv.columns if \"count_rech_\" not in col]\n",
    "telecom_hv = telecom_hv[cols]\n",
    "telecom_hv.shape"
   ]
  },
  {
   "cell_type": "markdown",
   "metadata": {},
   "source": [
    "<i>Calculating the change in MOU for the good phase (for months June and July).</i>"
   ]
  },
  {
   "cell_type": "code",
   "execution_count": 56,
   "metadata": {},
   "outputs": [
    {
     "data": {
      "text/plain": [
       "(30001, 150)"
      ]
     },
     "execution_count": 56,
     "metadata": {},
     "output_type": "execute_result"
    }
   ],
   "source": [
    "telecom_hv.shape"
   ]
  },
  {
   "cell_type": "code",
   "execution_count": 57,
   "metadata": {},
   "outputs": [],
   "source": [
    "cols = list(set([col[:-2] for col in telecom_hv.columns if \"mou\" in col and (\"6\" in col or \"7\" in col)]))\n",
    "cols\n",
    "for col in cols:\n",
    "    telecom_hv[col + \"_chng\"] = (((telecom_hv[col+\"_6\"] + telecom_hv[col+\"_7\"])/2)-telecom_hv[col+\"_8\"])"
   ]
  },
  {
   "cell_type": "code",
   "execution_count": 58,
   "metadata": {},
   "outputs": [],
   "source": [
    "cols = [col for col in telecom_hv.columns if (\"mou\" not in col) or (\"_chng\" in col)]\n",
    "cols\n",
    "telecom_hv = telecom_hv[cols]"
   ]
  },
  {
   "cell_type": "code",
   "execution_count": 59,
   "metadata": {},
   "outputs": [
    {
     "data": {
      "text/plain": [
       "(30001, 96)"
      ]
     },
     "execution_count": 59,
     "metadata": {},
     "output_type": "execute_result"
    }
   ],
   "source": [
    "telecom_hv.shape"
   ]
  },
  {
   "cell_type": "code",
   "execution_count": 60,
   "metadata": {},
   "outputs": [
    {
     "data": {
      "text/plain": [
       "['arpu_6',\n",
       " 'arpu_7',\n",
       " 'arpu_8',\n",
       " 'og_others_6',\n",
       " 'og_others_7',\n",
       " 'og_others_8',\n",
       " 'ic_others_6',\n",
       " 'ic_others_7',\n",
       " 'ic_others_8',\n",
       " 'total_rech_num_6',\n",
       " 'total_rech_num_7',\n",
       " 'total_rech_num_8',\n",
       " 'total_rech_amt_6',\n",
       " 'total_rech_amt_7',\n",
       " 'total_rech_amt_8',\n",
       " 'max_rech_amt_6',\n",
       " 'max_rech_amt_7',\n",
       " 'max_rech_amt_8',\n",
       " 'last_day_rch_amt_6',\n",
       " 'last_day_rch_amt_7',\n",
       " 'last_day_rch_amt_8',\n",
       " 'total_rech_data_6',\n",
       " 'total_rech_data_7',\n",
       " 'total_rech_data_8',\n",
       " 'max_rech_data_6',\n",
       " 'max_rech_data_7',\n",
       " 'max_rech_data_8',\n",
       " 'av_rech_amt_data_6',\n",
       " 'av_rech_amt_data_7',\n",
       " 'av_rech_amt_data_8',\n",
       " 'vol_2g_mb_6',\n",
       " 'vol_2g_mb_7',\n",
       " 'vol_2g_mb_8',\n",
       " 'vol_3g_mb_6',\n",
       " 'vol_3g_mb_7',\n",
       " 'vol_3g_mb_8',\n",
       " 'arpu_3g_6',\n",
       " 'arpu_3g_7',\n",
       " 'arpu_3g_8',\n",
       " 'arpu_2g_6',\n",
       " 'arpu_2g_7',\n",
       " 'arpu_2g_8',\n",
       " 'night_pck_user_6',\n",
       " 'night_pck_user_7',\n",
       " 'night_pck_user_8',\n",
       " 'monthly_2g_6',\n",
       " 'monthly_2g_7',\n",
       " 'monthly_2g_8',\n",
       " 'sachet_2g_6',\n",
       " 'sachet_2g_7',\n",
       " 'sachet_2g_8',\n",
       " 'monthly_3g_6',\n",
       " 'monthly_3g_7',\n",
       " 'monthly_3g_8',\n",
       " 'sachet_3g_6',\n",
       " 'sachet_3g_7',\n",
       " 'sachet_3g_8',\n",
       " 'fb_user_6',\n",
       " 'fb_user_7',\n",
       " 'fb_user_8',\n",
       " 'aon',\n",
       " 'aug_vbc_3g',\n",
       " 'jul_vbc_3g',\n",
       " 'jun_vbc_3g',\n",
       " 'total_rech_amt_data_6',\n",
       " 'total_rech_amt_data_7',\n",
       " 'total_rech_amt_data_8',\n",
       " 'avg_rech_amt',\n",
       " 'churned']"
      ]
     },
     "execution_count": 60,
     "metadata": {},
     "output_type": "execute_result"
    }
   ],
   "source": [
    "# Columns for which we still have individual month data\n",
    "\n",
    "[col for col in telecom_hv.columns if \"_chng\" not in col]"
   ]
  },
  {
   "cell_type": "code",
   "execution_count": 61,
   "metadata": {},
   "outputs": [
    {
     "data": {
      "text/plain": [
       "(30001, 96)"
      ]
     },
     "execution_count": 61,
     "metadata": {},
     "output_type": "execute_result"
    }
   ],
   "source": [
    "telecom_hv.shape"
   ]
  },
  {
   "cell_type": "code",
   "execution_count": 62,
   "metadata": {},
   "outputs": [],
   "source": [
    "cols = [\"arpu\", \"og_others\", \"ic_others\", \"total_rech_amt\", \"max_rech_amt\", \"last_day_rch_amt\", \n",
    "        \"max_rech_data\", \"av_rech_amt_data\", \"total_rech_amt_data\",\n",
    "       \"vol_2g_mb\", \"vol_3g_mb\", \"arpu_3g\", \"arpu_2g\"]\n",
    "\n",
    "\n",
    "for col in cols:\n",
    "    telecom_hv[col + \"_chng\"] = (((telecom_hv[col+\"_6\"] + telecom_hv[col+\"_7\"])/2)-telecom_hv[col+\"_8\"])"
   ]
  },
  {
   "cell_type": "code",
   "execution_count": 63,
   "metadata": {},
   "outputs": [
    {
     "data": {
      "text/plain": [
       "(30001, 109)"
      ]
     },
     "execution_count": 63,
     "metadata": {},
     "output_type": "execute_result"
    }
   ],
   "source": [
    "telecom_hv.shape"
   ]
  },
  {
   "cell_type": "code",
   "execution_count": 64,
   "metadata": {},
   "outputs": [],
   "source": [
    "cols = [\"arpu\", \"og_others\", \"ic_others\", \"total_rech_amt\", \"max_rech_amt\", \"last_day_rch_amt\", \n",
    "        \"max_rech_data\", \"av_rech_amt_data\", \"total_rech_amt_data\",\n",
    "       \"vol_2g_mb\", \"vol_3g_mb\", \"arpu_3g\", \"arpu_2g\"]\n",
    "\n",
    "updated_cols = []\n",
    "for col in telecom_hv.columns:\n",
    "    flag = 0\n",
    "    for del_col in cols:\n",
    "        if del_col in col and \"_chng\" not in col:\n",
    "            flag = 1\n",
    "            break;\n",
    "    if flag == 0:\n",
    "        updated_cols.append(col)\n",
    "        \n",
    "telecom_hv = telecom_hv[updated_cols]"
   ]
  },
  {
   "cell_type": "code",
   "execution_count": 65,
   "metadata": {},
   "outputs": [
    {
     "data": {
      "text/plain": [
       "(30001, 70)"
      ]
     },
     "execution_count": 65,
     "metadata": {},
     "output_type": "execute_result"
    }
   ],
   "source": [
    "telecom_hv.shape"
   ]
  },
  {
   "cell_type": "code",
   "execution_count": 66,
   "metadata": {},
   "outputs": [
    {
     "data": {
      "text/plain": [
       "['total_rech_num_6',\n",
       " 'total_rech_num_7',\n",
       " 'total_rech_num_8',\n",
       " 'total_rech_data_6',\n",
       " 'total_rech_data_7',\n",
       " 'total_rech_data_8',\n",
       " 'night_pck_user_6',\n",
       " 'night_pck_user_7',\n",
       " 'night_pck_user_8',\n",
       " 'monthly_2g_6',\n",
       " 'monthly_2g_7',\n",
       " 'monthly_2g_8',\n",
       " 'sachet_2g_6',\n",
       " 'sachet_2g_7',\n",
       " 'sachet_2g_8',\n",
       " 'monthly_3g_6',\n",
       " 'monthly_3g_7',\n",
       " 'monthly_3g_8',\n",
       " 'sachet_3g_6',\n",
       " 'sachet_3g_7',\n",
       " 'sachet_3g_8',\n",
       " 'fb_user_6',\n",
       " 'fb_user_7',\n",
       " 'fb_user_8',\n",
       " 'aon',\n",
       " 'aug_vbc_3g',\n",
       " 'jul_vbc_3g',\n",
       " 'jun_vbc_3g',\n",
       " 'avg_rech_amt',\n",
       " 'churned']"
      ]
     },
     "execution_count": 66,
     "metadata": {},
     "output_type": "execute_result"
    }
   ],
   "source": [
    "# Columns for which we still have individual month data\n",
    "\n",
    "[col for col in telecom_hv.columns if \"_chng\" not in col]"
   ]
  },
  {
   "cell_type": "code",
   "execution_count": null,
   "metadata": {},
   "outputs": [],
   "source": []
  },
  {
   "cell_type": "code",
   "execution_count": null,
   "metadata": {},
   "outputs": [],
   "source": []
  },
  {
   "cell_type": "code",
   "execution_count": null,
   "metadata": {},
   "outputs": [],
   "source": []
  },
  {
   "cell_type": "code",
   "execution_count": null,
   "metadata": {},
   "outputs": [],
   "source": []
  },
  {
   "cell_type": "code",
   "execution_count": null,
   "metadata": {},
   "outputs": [],
   "source": []
  },
  {
   "cell_type": "code",
   "execution_count": 67,
   "metadata": {
    "scrolled": true
   },
   "outputs": [
    {
     "name": "stdout",
     "output_type": "stream",
     "text": [
      "aon - 3294\n",
      "aug_vbc_3g - 9840\n",
      "jul_vbc_3g - 10007\n",
      "jun_vbc_3g - 9285\n",
      "avg_rech_amt - 5183\n",
      "loc_ic_t2f_mou_chng - 14244\n",
      "std_og_t2t_mou_chng - 16890\n",
      "roam_og_mou_chng - 8881\n",
      "spl_og_mou_chng - 12151\n",
      "loc_ic_mou_chng - 27459\n",
      "isd_og_mou_chng - 2055\n",
      "loc_og_t2m_mou_chng - 26152\n",
      "offnet_mou_chng - 28048\n",
      "std_og_t2f_mou_chng - 4026\n",
      "std_ic_t2m_mou_chng - 17680\n",
      "loc_og_t2c_mou_chng - 5933\n",
      "spl_ic_mou_chng - 568\n",
      "loc_og_t2f_mou_chng - 10077\n",
      "std_ic_mou_chng - 20592\n",
      "loc_ic_t2t_mou_chng - 23236\n",
      "loc_og_t2t_mou_chng - 22949\n",
      "std_ic_t2f_mou_chng - 5924\n",
      "roam_ic_mou_chng - 8056\n",
      "std_og_t2m_mou_chng - 20499\n",
      "total_ic_mou_chng - 27878\n",
      "onnet_mou_chng - 26215\n",
      "loc_ic_t2m_mou_chng - 26603\n",
      "std_ic_t2t_mou_chng - 12862\n",
      "total_og_mou_chng - 28458\n",
      "std_og_mou_chng - 22423\n",
      "isd_ic_mou_chng - 6951\n",
      "loc_og_mou_chng - 27111\n",
      "arpu_chng - 29918\n",
      "og_others_chng - 989\n",
      "ic_others_chng - 4425\n",
      "total_rech_amt_chng - 4117\n",
      "max_rech_amt_chng - 1509\n",
      "last_day_rch_amt_chng - 1399\n",
      "max_rech_data_chng - 867\n",
      "av_rech_amt_data_chng - 2011\n",
      "total_rech_amt_data_chng - 5499\n",
      "vol_2g_mb_chng - 16940\n",
      "vol_3g_mb_chng - 13568\n",
      "arpu_3g_chng - 11480\n",
      "arpu_2g_chng - 12404\n"
     ]
    }
   ],
   "source": [
    "for col in telecom_hv.columns:\n",
    "    if telecom_hv[col].nunique() >= 150:\n",
    "        print(col + \" - \" + str(telecom_hv[col].nunique()))"
   ]
  },
  {
   "cell_type": "code",
   "execution_count": 68,
   "metadata": {},
   "outputs": [
    {
     "name": "stdout",
     "output_type": "stream",
     "text": [
      "total_rech_num_6 - 102\n",
      "total_rech_num_7 - 101\n",
      "total_rech_num_8 - 96\n",
      "total_rech_data_6 - 38\n",
      "total_rech_data_7 - 43\n",
      "total_rech_data_8 - 47\n",
      "night_pck_user_6 - 2\n",
      "night_pck_user_7 - 2\n",
      "night_pck_user_8 - 2\n",
      "monthly_2g_6 - 5\n",
      "monthly_2g_7 - 6\n",
      "monthly_2g_8 - 6\n",
      "sachet_2g_6 - 31\n",
      "sachet_2g_7 - 35\n",
      "sachet_2g_8 - 34\n",
      "monthly_3g_6 - 12\n",
      "monthly_3g_7 - 15\n",
      "monthly_3g_8 - 12\n",
      "sachet_3g_6 - 25\n",
      "sachet_3g_7 - 27\n",
      "sachet_3g_8 - 29\n",
      "fb_user_6 - 2\n",
      "fb_user_7 - 2\n",
      "fb_user_8 - 2\n",
      "churned - 2\n"
     ]
    }
   ],
   "source": [
    "for col in telecom_hv.columns:\n",
    "    if telecom_hv[col].nunique() < 150:\n",
    "        print(col + \" - \" + str(telecom_hv[col].nunique()))"
   ]
  },
  {
   "cell_type": "code",
   "execution_count": 69,
   "metadata": {
    "scrolled": true
   },
   "outputs": [
    {
     "data": {
      "text/plain": [
       "0    25394\n",
       "1     4021\n",
       "2      551\n",
       "3       28\n",
       "4        7\n",
       "Name: monthly_2g_6, dtype: int64"
      ]
     },
     "execution_count": 69,
     "metadata": {},
     "output_type": "execute_result"
    }
   ],
   "source": [
    "telecom_hv.monthly_2g_6.value_counts()"
   ]
  },
  {
   "cell_type": "code",
   "execution_count": null,
   "metadata": {},
   "outputs": [],
   "source": []
  },
  {
   "cell_type": "code",
   "execution_count": null,
   "metadata": {},
   "outputs": [],
   "source": []
  },
  {
   "cell_type": "code",
   "execution_count": null,
   "metadata": {},
   "outputs": [],
   "source": []
  },
  {
   "cell_type": "markdown",
   "metadata": {},
   "source": [
    "# TBD"
   ]
  },
  {
   "cell_type": "code",
   "execution_count": 70,
   "metadata": {},
   "outputs": [
    {
     "name": "stdout",
     "output_type": "stream",
     "text": [
      "0.0    29594\n",
      "1.0      407\n",
      "Name: night_pck_user_6, dtype: int64\n",
      "0.0    29626\n",
      "1.0      375\n",
      "Name: night_pck_user_7, dtype: int64\n",
      "0.0    29660\n",
      "1.0      341\n",
      "Name: night_pck_user_8, dtype: int64\n",
      "1.0    15525\n",
      "0.0    14476\n",
      "Name: fb_user_6, dtype: int64\n",
      "1.0    15722\n",
      "0.0    14279\n",
      "Name: fb_user_7, dtype: int64\n",
      "0.0    15688\n",
      "1.0    14313\n",
      "Name: fb_user_8, dtype: int64\n"
     ]
    }
   ],
   "source": [
    "cols = [col for col in telecom_hv.columns if \"night_pck_user_\" in col or \"fb_user_\" in col]\n",
    "for col in cols:\n",
    "    print(telecom_hv[col].value_counts())"
   ]
  },
  {
   "cell_type": "code",
   "execution_count": 71,
   "metadata": {},
   "outputs": [
    {
     "data": {
      "text/plain": [
       "<matplotlib.axes._subplots.AxesSubplot at 0x19bbe809748>"
      ]
     },
     "execution_count": 71,
     "metadata": {},
     "output_type": "execute_result"
    },
    {
     "data": {
      "image/png": "[encoded data removed]",
      "text/plain": [
       "<Figure size 1728x864 with 3 Axes>"
      ]
     },
     "metadata": {
      "needs_background": "light"
     },
     "output_type": "display_data"
    }
   ],
   "source": [
    "cols = [col for col in telecom_hv.columns if \"vbc\" in col]\n",
    "cols\n",
    "plt.figure(figsize=(24,12))\n",
    "plt.subplot(1,3,1)\n",
    "sns.boxplot(telecom_hv[\"jun_vbc_3g\"])\n",
    "plt.subplot(1,3,2)\n",
    "sns.boxplot(telecom_hv[\"jul_vbc_3g\"])\n",
    "plt.subplot(1,3,3)\n",
    "sns.boxplot(telecom_hv[\"aug_vbc_3g\"])\n",
    "\n"
   ]
  },
  {
   "cell_type": "code",
   "execution_count": null,
   "metadata": {},
   "outputs": [],
   "source": []
  }
 ],
 "metadata": {
  "kernelspec": {
   "display_name": "Python 3",
   "language": "python",
   "name": "python3"
  },
  "language_info": {
   "codemirror_mode": {
    "name": "ipython",
    "version": 3
   },
   "file_extension": ".py",
   "mimetype": "text/x-python",
   "name": "python",
   "nbconvert_exporter": "python",
   "pygments_lexer": "ipython3",
   "version": "3.7.6"
  }
 },
 "nbformat": 4,
 "nbformat_minor": 4
}
